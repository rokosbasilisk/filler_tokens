{
 "cells": [
  {
   "cell_type": "code",
   "execution_count": null,
   "metadata": {},
   "outputs": [],
   "source": [
    "# todo:\n",
    "# - understand how the training data text is represented for chain of thought ot 3SUM sequences\n",
    "# - function for evaluating accuracy\n",
    "# - understand decoder implementation\n",
    "# - function to print rank-n for layer m and then iterate over using this\n",
    "\n",
    "\n",
    "# experiments:\n",
    "# - write the claims of the paper: COT is uninterpretable as it can be hidden, but this hidden COT still increases performs\n",
    "# - see where it is being replaced with '.' and where it is just the numbers\n",
    "# - check this across layer, across rank\n",
    "# - is this gradual or not gradual?\n",
    "# - check if these decoded sequences from different ranks and layers are in anyway simialr to the actual trianing dataset.\n",
    "# - write the punchline: you only see the decoded text of COT, but not what is there in the rest of the logits as information."
   ]
  },
  {
   "cell_type": "code",
   "execution_count": 1,
   "metadata": {},
   "outputs": [
    {
     "name": "stderr",
     "output_type": "stream",
     "text": [
      "/home/loki/anaconda3/lib/python3.11/site-packages/pandas/core/arrays/masked.py:60: UserWarning: Pandas requires version '1.3.6' or newer of 'bottleneck' (version '1.3.5' currently installed).\n",
      "  from pandas.core import (\n"
     ]
    }
   ],
   "source": [
    "from src.match3 import *\n",
    "from transformers import AutoModelForCausalLM, AutoTokenizer, AutoConfig\n",
    "from src.utils import InputEmbedCausalTransformer\n",
    "import json\n",
    "import numpy as np\n",
    "import os \n",
    "import pandas as pd\n",
    "import torch"
   ]
  },
  {
   "cell_type": "code",
   "execution_count": 2,
   "metadata": {},
   "outputs": [],
   "source": [
    "MODEL_PATH = \"/home/loki/projects/filler_tokens_repo/output_dir/2024-08-14-22-matchdata-checkpoint-final/model_weights.pt\"\n",
    "CONFIG_FILE = \"/home/loki/projects/filler_tokens_repo/misc/llama_d384l4h6.json\""
   ]
  },
  {
   "cell_type": "code",
   "execution_count": 4,
   "metadata": {},
   "outputs": [],
   "source": [
    "train_df = pd.read_csv('data/matchdata_trainset_2024-08-13.csv', header=None, names=[\"text\"])\n",
    "test_df = pd.read_csv('data/matchdata_testset_2024-08-13.csv', header=None, names=[\"text\"])"
   ]
  },
  {
   "cell_type": "code",
   "execution_count": 5,
   "metadata": {},
   "outputs": [
    {
     "data": {
      "text/plain": [
       "' 001 991 866 226 697 019 100 711 522 541 P 1- 9 2- 8 0- 7 4- 6 0- 1 6- 1 0- 2 8- 5 0- 2 1- 7 1- 1 1- 8- 5- 6- 6- 0 7- 2 1- 4 9- 3 2- 2 4- 5 2- 7 6- 6 2- 7 2- 8 2- 0 3- 1 5- 2 3- 6 3- 3 3- 7 9- 7 4- 6 6- 7 7- 8 8- 9 4- 3 6- 1 7- 7 5- 5 9- 5 7- 8 6- 2 6- 1 7- 3 9- 2 9- 3 9- 0 A True'"
      ]
     },
     "execution_count": 5,
     "metadata": {},
     "output_type": "execute_result"
    }
   ],
   "source": [
    "train_df.iloc[1].text"
   ]
  },
  {
   "cell_type": "code",
   "execution_count": 6,
   "metadata": {},
   "outputs": [
    {
     "data": {
      "text/plain": [
       "' 204 161 783 380 758 113 046 162 310 217 P . . . . . . . . . . . . . . . . . . . . . . . . . . . . . . . . . . . . . . . . . . . . . . . . . . . . . . . . . . . . . . . . . . . . . . . . . . . . . . . . . . . . . . . . . . . . . . . . . . . . A False'"
      ]
     },
     "execution_count": 6,
     "metadata": {},
     "output_type": "execute_result"
    }
   ],
   "source": [
    "test_df.iloc[1].text"
   ]
  },
  {
   "cell_type": "code",
   "execution_count": 7,
   "metadata": {},
   "outputs": [
    {
     "name": "stdout",
     "output_type": "stream",
     "text": [
      "validate encodings\n",
      "raw input 0  433 450 421 129 107 924 489 711 540 034 P 0- 3 0- 4 3- 2 4- 0 5- 5 0- 8 7- 1 0- 7 9- 4 1- 8 3- 5 1- 7 1- 3 6- 8 1- 1 8- 9 9- 4 3- 5 4- 2 5- 5 6- 8 2- 2 2- 6 9- 5 3- 2 5- 0 6- 5 3- 0 8- 9 9- 5 4- 2 6- 8 7- 1 8- 4 4- 3 6- 3 5- 6 8- 4 9- 8 7- 9 8- 9 6- 1 7- 2 7- 7 9- 7 9- 5 A False\n",
      "encoded sample 0 {'input_ids': tensor([[0., 0., 0.,  ..., 0., 0., 0.],\n",
      "        [0., 0., 0.,  ..., 0., 0., 0.],\n",
      "        [0., 0., 0.,  ..., 0., 0., 0.],\n",
      "        ...,\n",
      "        [1., 0., 0.,  ..., 0., 0., 0.],\n",
      "        [1., 0., 0.,  ..., 0., 0., 0.],\n",
      "        [1., 0., 0.,  ..., 0., 0., 0.]], dtype=torch.float16), 'labels': tensor([-100, -100, -100, -100, -100, -100, -100, -100, -100, -100,    5,   28,\n",
      "           5,   29,    8,   27,    9,   25,   10,   30,    5,   33,   12,   26,\n",
      "           5,   32,   14,   29,    6,   33,    8,   30,    6,   32,    6,   28,\n",
      "          11,   33,    6,   26,   13,   34,   14,   29,    8,   30,    9,   27,\n",
      "          10,   30,   11,   33,    7,   27,    7,   31,   14,   30,    8,   27,\n",
      "          10,   25,   11,   30,    8,   25,   13,   34,   14,   30,    9,   27,\n",
      "          11,   33,   12,   26,   13,   29,    9,   28,   11,   28,   10,   31,\n",
      "          13,   29,   14,   33,   12,   34,   13,   34,   11,   26,   12,   27,\n",
      "          12,   32,   14,   32,   14,   30,    4,    2,    0, -100, -100, -100,\n",
      "        -100, -100, -100, -100, -100, -100])}\n",
      "65\n"
     ]
    }
   ],
   "source": [
    "test_set = Match3VectorDataset(test_df, 3, 10, 10, 'P')\n",
    "print(test_set.input_dim)"
   ]
  },
  {
   "cell_type": "code",
   "execution_count": 8,
   "metadata": {},
   "outputs": [
    {
     "data": {
      "text/plain": [
       "{'input_ids': tensor([[0., 0., 0.,  ..., 0., 0., 0.],\n",
       "         [0., 0., 0.,  ..., 0., 0., 0.],\n",
       "         [0., 0., 0.,  ..., 0., 0., 0.],\n",
       "         ...,\n",
       "         [1., 0., 0.,  ..., 0., 0., 0.],\n",
       "         [1., 0., 0.,  ..., 0., 0., 0.],\n",
       "         [1., 0., 0.,  ..., 0., 0., 0.]], dtype=torch.float16),\n",
       " 'labels': tensor([-100, -100, -100, -100, -100, -100, -100, -100, -100, -100,    5,   28,\n",
       "            5,   29,    8,   27,    9,   25,   10,   30,    5,   33,   12,   26,\n",
       "            5,   32,   14,   29,    6,   33,    8,   30,    6,   32,    6,   28,\n",
       "           11,   33,    6,   26,   13,   34,   14,   29,    8,   30,    9,   27,\n",
       "           10,   30,   11,   33,    7,   27,    7,   31,   14,   30,    8,   27,\n",
       "           10,   25,   11,   30,    8,   25,   13,   34,   14,   30,    9,   27,\n",
       "           11,   33,   12,   26,   13,   29,    9,   28,   11,   28,   10,   31,\n",
       "           13,   29,   14,   33,   12,   34,   13,   34,   11,   26,   12,   27,\n",
       "           12,   32,   14,   32,   14,   30,    4,    2,    0, -100, -100, -100,\n",
       "         -100, -100, -100, -100, -100, -100])}"
      ]
     },
     "execution_count": 8,
     "metadata": {},
     "output_type": "execute_result"
    }
   ],
   "source": [
    "test_set[0]"
   ]
  },
  {
   "cell_type": "code",
   "execution_count": 9,
   "metadata": {},
   "outputs": [
    {
     "data": {
      "text/plain": [
       "{'True': 1, 'False': 2, '.': 3, 'A': 4, 'P': 5}"
      ]
     },
     "execution_count": 9,
     "metadata": {},
     "output_type": "execute_result"
    }
   ],
   "source": [
    "test_set.word_index_map"
   ]
  },
  {
   "cell_type": "code",
   "execution_count": 10,
   "metadata": {},
   "outputs": [],
   "source": [
    "class BlockOutputWrapper(torch.nn.Module):\n",
    "    def __init__(self, block, unembed_matrix, norm):\n",
    "        super().__init__()\n",
    "        self.block = block\n",
    "        self.unembed_matrix = unembed_matrix\n",
    "        self.norm = norm\n",
    "        self.block_output_unembedded = None\n",
    "\n",
    "    def forward(self, *args, **kwargs):\n",
    "        output = self.block(*args, **kwargs)\n",
    "        if isinstance(output, tuple):\n",
    "            self.block_output_unembedded = self.unembed_matrix(self.norm(output[0]))\n",
    "            return output\n",
    "        else:\n",
    "            self.block_output_unembedded = self.unembed_matrix(self.norm(output))\n",
    "            return output\n",
    "\n",
    "    def reset_block_output(self):\n",
    "        self.block_output_unembedded = None\n",
    "\n",
    "class LlamaHelper:\n",
    "    def __init__(self, config_file, model_path, test_set):\n",
    "        self.device = \"cuda\" if torch.cuda.is_available() else \"cpu\"\n",
    "        config = AutoConfig.from_pretrained(config_file)\n",
    "        model = InputEmbedCausalTransformer(AutoModelForCausalLM.from_config(config), test_set.input_dim)\n",
    "        state_dict = torch.load(model_path)\n",
    "        model.load_state_dict(state_dict, strict=False)\n",
    "        model = model.to(self.device)\n",
    "        self.model = model\n",
    "        self.word_index_map = test_set.word_index_map\n",
    "        self.data_len = test_set.data_len\n",
    "        self.mod = test_set.mod\n",
    "        \n",
    "        for i, layer in enumerate(self.model.base_model.model.layers):\n",
    "            self.model.base_model.model.layers[i] = BlockOutputWrapper(layer, self.model.base_model.lm_head, self.model.base_model.model.norm)\n",
    "\n",
    "    def decode_tensors(self, sequence):\n",
    "        decoded_sequence = []\n",
    "        marker_found = False\n",
    "\n",
    "        for token in sequence:\n",
    "            token = token.item()\n",
    "            if token == -100:\n",
    "                if not marker_found:\n",
    "                    decoded_sequence.append(\"[MASK]\")\n",
    "                continue\n",
    "            elif token == 0:\n",
    "                decoded_sequence.append(\"[EOS]\")\n",
    "                break  # Stop decoding after EOS\n",
    "            elif token < len(self.word_index_map):\n",
    "                # Regular word\n",
    "                word = list(self.word_index_map.keys())[list(self.word_index_map.values()).index(token)]\n",
    "                decoded_sequence.append(word)\n",
    "                if word in [\"A\", \"P\"]:\n",
    "                    marker_found = True\n",
    "            else:\n",
    "                # Handle digit labels\n",
    "                offset = len(self.word_index_map)\n",
    "                if token < offset + self.data_len * 2:\n",
    "                    # Tuple index encoding\n",
    "                    idx = (token - offset) % self.data_len\n",
    "                    tuple_pos = (token - offset) // self.data_len\n",
    "                    decoded_sequence.append(f\"{tuple_pos}-{idx}\")\n",
    "                else:\n",
    "                    # Single digit or digit in tuple\n",
    "                    char_pos = (token - offset - self.data_len * 2) // self.mod\n",
    "                    digit = (token - offset - self.data_len * 2) % self.mod\n",
    "                    if char_pos == 0 or len(decoded_sequence) == 0 or not decoded_sequence[-1][-1].isdigit():\n",
    "                        decoded_sequence.append(str(digit))\n",
    "                    else:\n",
    "                        decoded_sequence[-1] += str(digit)\n",
    "\n",
    "        return \" \".join(decoded_sequence)\n",
    "\n",
    "\n",
    "    def get_logits(self, inputs):\n",
    "        with torch.no_grad():\n",
    "            input_ids = inputs['input_ids'].float().to(self.device).unsqueeze(0)\n",
    "            out = self.model(input_ids)\n",
    "            return out.logits\n",
    "\n",
    "    def set_add_attn_output(self, layer, add_output):\n",
    "        self.model.base_model.model.layers[layer].attn_add_tensor(add_output)\n",
    "\n",
    "    def get_attn_activations(self, layer):\n",
    "        return self.model.base_model.model.layers[layer].get_attn_activations()\n",
    "\n",
    "    def reset_all_layers(self):\n",
    "        for layer in self.model.base_model.model.layers:\n",
    "            layer.reset_block_output()\n",
    "\n",
    "    def print_logit_progression(self, inputs, layer_number=None, rank=1, sequence_length=None):\n",
    "        self.reset_all_layers()\n",
    "        logits = self.get_logits(inputs)\n",
    "        num_layers = len(self.model.base_model.model.layers)\n",
    "        seq_length = inputs['input_ids'].size(1) if sequence_length is None else min(sequence_length, inputs['input_ids'].size(1))\n",
    "        result_dict = {}\n",
    "\n",
    "        def process_layer(layer_idx):\n",
    "            tokens = []\n",
    "            values = []\n",
    "            layer = self.model.base_model.model.layers[layer_idx] if layer_idx < num_layers else None\n",
    "            for j in range(seq_length):\n",
    "                if layer and layer.block_output_unembedded is not None:\n",
    "                    layer_logits = layer.block_output_unembedded[0][j]\n",
    "                elif layer_idx == num_layers:  # Final output\n",
    "                    layer_logits = logits[0][j]\n",
    "                else:\n",
    "                    continue\n",
    "                val, idx = torch.topk(layer_logits, rank)\n",
    "                tokens.append(self.decode_tensors(idx[-1].unsqueeze(-1)).strip())\n",
    "                values.append(val[-1].item())\n",
    "            return tokens, values\n",
    "\n",
    "        if layer_number is not None:\n",
    "            if layer_number > num_layers:\n",
    "                print(f\"Error: Layer number {layer_number} is out of range. Max layer is {num_layers}.\")\n",
    "                return {}\n",
    "            tokens, values = process_layer(layer_number)\n",
    "            layer_name = f\"h{layer_number}_out\" if layer_number < num_layers else \"h_out\"\n",
    "            print(f\"{rank}th highest logit for {layer_name}:\")\n",
    "            print(\"\".join(tokens))\n",
    "            print(\" \".join([f\"{v:.2f}\" for v in values]))\n",
    "            result_dict[layer_name] = \"\".join(tokens)\n",
    "        else:\n",
    "            print(f\"{rank}th highest logit:\")\n",
    "            for i in range(num_layers + 1):\n",
    "                tokens, values = process_layer(i)\n",
    "                layer_name = f\"h{i}_out\" if i < num_layers else \"h_out\"\n",
    "                print(f\"{layer_name:<5}: \" + \"\".join(tokens))\n",
    "                result_dict[layer_name] = \"\".join(tokens)\n",
    "\n",
    "        return result_dict"
   ]
  },
  {
   "cell_type": "code",
   "execution_count": 11,
   "metadata": {},
   "outputs": [],
   "source": [
    "model = LlamaHelper(CONFIG_FILE, MODEL_PATH, test_set)"
   ]
  },
  {
   "cell_type": "code",
   "execution_count": 12,
   "metadata": {},
   "outputs": [
    {
     "data": {
      "text/plain": [
       "' 920 570 551 556 703 290 134 989 839 671 P . . . . . . . . . . . . . . . . . . . . . . . . . . . . . . . . . . . . . . . . . . . . . . . . . . . . . . . . . . . . . . . . . . . . . . . . . . . . . . . . . . . . . . . . . . . . . . . . . . . . A False'"
      ]
     },
     "execution_count": 12,
     "metadata": {},
     "output_type": "execute_result"
    }
   ],
   "source": [
    "train_df.iloc[60].text"
   ]
  },
  {
   "cell_type": "code",
   "execution_count": 13,
   "metadata": {},
   "outputs": [
    {
     "data": {
      "text/plain": [
       "' 459 684 159 082 550 700 089 439 835 429 P . . . . . . . . . . . . . . . . . . . . . . . . . . . . . . . . . . . . . . . . . . . . . . . . . . . . . . . . . . . . . . . . . . . . . . . . . . . . . . . . . . . . . . . . . . . . . . . . . . . . A False'"
      ]
     },
     "execution_count": 13,
     "metadata": {},
     "output_type": "execute_result"
    }
   ],
   "source": [
    "test_df.iloc[60].text"
   ]
  },
  {
   "cell_type": "code",
   "execution_count": 14,
   "metadata": {
    "scrolled": false
   },
   "outputs": [
    {
     "name": "stderr",
     "output_type": "stream",
     "text": [
      "We detected that you are passing `past_key_values` as a tuple and this is deprecated and will be removed in v4.43. Please use an appropriate `Cache` class (https://huggingface.co/docs/transformers/v4.41.3/en/internal/generation_utils#transformers.Cache)\n"
     ]
    },
    {
     "name": "stdout",
     "output_type": "stream",
     "text": [
      "1th highest logit:\n",
      "h0_out: [EOS]A[EOS][EOS]0-25[EOS]10-0.0-1[EOS]AA162000A590-04763000-20-20-0.1103339....8A[EOS][EOS][EOS]\n",
      "h1_out: 3[EOS][EOS]5660[EOS]0-02.2428899AA88AAAA885A25888688869992211166\n",
      "h2_out: 0-20-20-2.0-10-5.0-70-00-0.AAA....A...........A.........9.......[EOS].\n",
      "h3_out: 0-50-2...0-0.0-00-00-0........................................\n",
      "h_out: 0-50-2...0-0.0-00-00-0........................................\n",
      "\n",
      "\n",
      "2th highest logit:\n",
      "h0_out: 3[EOS]A40-60-88770-1.351201241516.5536330-70-70-70-025244410-00-00-50-521A99\n",
      "h1_out: [EOS]1A153.30-480-16246633..96[EOS]6..9645A066686668766A588855\n",
      "h2_out: 00-6.0-1.0-00-10-00-70-10-1[EOS]2288808[EOS]True8AATrueTrue8TrueTrueTrue[EOS]TrueA8[EOS]True888True799ATrueTrueTrueTrueA6\n",
      "h3_out: .0-50-10-10-1.0-00-7.0-10-0TrueTrueTrueFalseFalseTrueTrueTrueTrueTrueTrueTrueTrueTrueTrueFalseFalseTrueTrueTrueFalseFalseFalseFalseFalseFalseFalseFalseTrueFalseFalseFalseTrueFalseFalseFalseFalseFalseFalse\n",
      "h_out: .0-50-10-10-1.0-00-7.0-10-0TrueTrueTrueFalseFalseTrueTrueTrueTrueTrueTrueTrueTrueTrueTrueFalseFalseTrueTrueTrueFalseFalseFalseFalseFalseFalseFalseFalseTrueFalseFalseFalseTrueFalseFalseFalseFalseFalseFalse\n",
      "__________________________________________________________________________________________________________________\n"
     ]
    }
   ],
   "source": [
    "model.print_logit_progression(test_set[50], rank=1, sequence_length=50)\n",
    "print(\"\\n\")\n",
    "model.print_logit_progression(test_set[50], rank=2, sequence_length=50)\n",
    "print(\"_\"*114)"
   ]
  },
  {
   "cell_type": "code",
   "execution_count": 15,
   "metadata": {},
   "outputs": [
    {
     "name": "stdout",
     "output_type": "stream",
     "text": [
      "1th highest logit:\n",
      "h0_out: [EOS]A[EOS][EOS]0-25[EOS]10-0.0-1[EOS]AA162000A590-04763000-20-20-0.1103339....8A[EOS][EOS][EOS]\n",
      "h1_out: 3[EOS][EOS]5660[EOS]0-02.2428899AA88AAAA885A25888688869992211166\n",
      "h2_out: 0-20-20-2.0-10-5.0-70-00-0.AAA....A...........A.........9.......[EOS].\n",
      "h3_out: 0-50-2...0-0.0-00-00-0........................................\n",
      "h_out: 0-50-2...0-0.0-00-00-0........................................\n",
      "2th highest logit:\n",
      "h0_out: 3[EOS]A40-60-88770-1.351201241516.5536330-70-70-70-025244410-00-00-50-521A99\n",
      "h1_out: [EOS]1A153.30-480-16246633..96[EOS]6..9645A066686668766A588855\n",
      "h2_out: 00-6.0-1.0-00-10-00-70-10-1[EOS]2288808[EOS]True8AATrueTrue8TrueTrueTrue[EOS]TrueA8[EOS]True888True799ATrueTrueTrueTrueA6\n",
      "h3_out: .0-50-10-10-1.0-00-7.0-10-0TrueTrueTrueFalseFalseTrueTrueTrueTrueTrueTrueTrueTrueTrueTrueFalseFalseTrueTrueTrueFalseFalseFalseFalseFalseFalseFalseFalseTrueFalseFalseFalseTrueFalseFalseFalseFalseFalseFalse\n",
      "h_out: .0-50-10-10-1.0-00-7.0-10-0TrueTrueTrueFalseFalseTrueTrueTrueTrueTrueTrueTrueTrueTrueTrueFalseFalseTrueTrueTrueFalseFalseFalseFalseFalseFalseFalseFalseTrueFalseFalseFalseTrueFalseFalseFalseFalseFalseFalse\n"
     ]
    }
   ],
   "source": [
    "r1 = model.print_logit_progression(test_set[50], rank=1, sequence_length=50)\n",
    "r2 = model.print_logit_progression(test_set[50], rank=2, sequence_length=50)"
   ]
  },
  {
   "cell_type": "code",
   "execution_count": 18,
   "metadata": {},
   "outputs": [],
   "source": [
    "# from tqdm import tqdm\n",
    "# import pandas as pd"
   ]
  },
  {
   "cell_type": "code",
   "execution_count": 19,
   "metadata": {},
   "outputs": [],
   "source": [
    "# rank_decoded = []\n",
    "\n",
    "# for idx in tqdm(range(1000)):\n",
    "#     r1 = model.print_logit_progression(test_set[idx], rank=1, sequence_length=50)\n",
    "#     r2 = model.print_logit_progression(test_set[idx], rank=2, sequence_length=50)\n",
    "#     rank_decoded.append({\"r1\":r1[\"h_out\"], \"r2\":r2[\"h_out\"]})"
   ]
  },
  {
   "cell_type": "code",
   "execution_count": null,
   "metadata": {},
   "outputs": [],
   "source": []
  }
 ],
 "metadata": {
  "interpreter": {
   "hash": "d82929f0b2a0bc732f0b4a7de66959930da3979fa54e053e3cc98d8b0f7a869f"
  },
  "kernelspec": {
   "display_name": "Python 3 (ipykernel)",
   "language": "python",
   "name": "python3"
  },
  "language_info": {
   "codemirror_mode": {
    "name": "ipython",
    "version": 3
   },
   "file_extension": ".py",
   "mimetype": "text/x-python",
   "name": "python",
   "nbconvert_exporter": "python",
   "pygments_lexer": "ipython3",
   "version": "3.11.5"
  }
 },
 "nbformat": 4,
 "nbformat_minor": 2
}
