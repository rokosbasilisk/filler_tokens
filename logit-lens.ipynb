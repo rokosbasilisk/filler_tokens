{
 "cells": [
  {
   "cell_type": "code",
   "execution_count": 1,
   "metadata": {},
   "outputs": [],
   "source": [
    "# todo:\n",
    "# - understand how the training data text is represented for chain of thought ot 3SUM sequences\n",
    "# - function for evaluating accuracy\n",
    "# - understand decoder implementation\n",
    "# - function to print rank-n for layer m and then iterate over using this\n",
    "\n",
    "\n",
    "# experiments:\n",
    "# - write the claims of the paper: COT is uninterpretable as it can be hidden, but this hidden COT still increases performs\n",
    "# - see where it is being replaced with '.' and where it is just the numbers\n",
    "# - check this across layer, across rank\n",
    "# - is this gradual or not gradual?\n",
    "# - check if these decoded sequences from different ranks and layers are in anyway simialr to the actual trianing dataset.\n",
    "# - write the punchline: you only see the decoded text of COT, but not what is there in the rest of the logits as information."
   ]
  },
  {
   "cell_type": "code",
   "execution_count": 2,
   "metadata": {},
   "outputs": [
    {
     "name": "stderr",
     "output_type": "stream",
     "text": [
      "/home/loki/anaconda3/lib/python3.11/site-packages/pandas/core/arrays/masked.py:60: UserWarning: Pandas requires version '1.3.6' or newer of 'bottleneck' (version '1.3.5' currently installed).\n",
      "  from pandas.core import (\n"
     ]
    }
   ],
   "source": [
    "from src.match3 import *\n",
    "from transformers import AutoModelForCausalLM, AutoTokenizer, AutoConfig\n",
    "from src.utils import InputEmbedCausalTransformer\n",
    "import json\n",
    "import numpy as np\n",
    "import os \n",
    "import pandas as pd\n",
    "import torch"
   ]
  },
  {
   "cell_type": "code",
   "execution_count": 9,
   "metadata": {},
   "outputs": [],
   "source": [
    "MODEL_PATH = \"/home/loki/projects/filler_tokens/output_dir/2024-08-14-22-matchdata-checkpoint-final/model_weights.pt\"\n",
    "CONFIG_FILE = \"/home/loki/projects/filler_tokens/misc/llama_d384l4h6.json\""
   ]
  },
  {
   "cell_type": "code",
   "execution_count": 4,
   "metadata": {},
   "outputs": [],
   "source": [
    "train_df = pd.read_csv('data/matchdata_trainset_2024-08-13.csv', header=None, names=[\"text\"])\n",
    "test_df = pd.read_csv('data/matchdata_testset_2024-08-13.csv', header=None, names=[\"text\"])"
   ]
  },
  {
   "cell_type": "code",
   "execution_count": 5,
   "metadata": {},
   "outputs": [
    {
     "name": "stdout",
     "output_type": "stream",
     "text": [
      "validate encodings\n",
      "raw input 0  433 450 421 129 107 924 489 711 540 034 P 0- 3 0- 4 3- 2 4- 0 5- 5 0- 8 7- 1 0- 7 9- 4 1- 8 3- 5 1- 7 1- 3 6- 8 1- 1 8- 9 9- 4 3- 5 4- 2 5- 5 6- 8 2- 2 2- 6 9- 5 3- 2 5- 0 6- 5 3- 0 8- 9 9- 5 4- 2 6- 8 7- 1 8- 4 4- 3 6- 3 5- 6 8- 4 9- 8 7- 9 8- 9 6- 1 7- 2 7- 7 9- 7 9- 5 A False\n",
      "encoded sample 0 {'input_ids': tensor([[0., 0., 0.,  ..., 0., 0., 0.],\n",
      "        [0., 0., 0.,  ..., 0., 0., 0.],\n",
      "        [0., 0., 0.,  ..., 0., 0., 0.],\n",
      "        ...,\n",
      "        [1., 0., 0.,  ..., 0., 0., 0.],\n",
      "        [1., 0., 0.,  ..., 0., 0., 0.],\n",
      "        [1., 0., 0.,  ..., 0., 0., 0.]], dtype=torch.float16), 'labels': tensor([-100, -100, -100, -100, -100, -100, -100, -100, -100, -100,    5,   28,\n",
      "           5,   29,    8,   27,    9,   25,   10,   30,    5,   33,   12,   26,\n",
      "           5,   32,   14,   29,    6,   33,    8,   30,    6,   32,    6,   28,\n",
      "          11,   33,    6,   26,   13,   34,   14,   29,    8,   30,    9,   27,\n",
      "          10,   30,   11,   33,    7,   27,    7,   31,   14,   30,    8,   27,\n",
      "          10,   25,   11,   30,    8,   25,   13,   34,   14,   30,    9,   27,\n",
      "          11,   33,   12,   26,   13,   29,    9,   28,   11,   28,   10,   31,\n",
      "          13,   29,   14,   33,   12,   34,   13,   34,   11,   26,   12,   27,\n",
      "          12,   32,   14,   32,   14,   30,    4,    2,    0, -100, -100, -100,\n",
      "        -100, -100, -100, -100, -100, -100])}\n",
      "65\n"
     ]
    }
   ],
   "source": [
    "test_set = Match3VectorDataset(test_df, 3, 10, 10, 'P')\n",
    "print(test_set.input_dim)"
   ]
  },
  {
   "cell_type": "code",
   "execution_count": 132,
   "metadata": {},
   "outputs": [],
   "source": [
    "class BlockOutputWrapper(torch.nn.Module):\n",
    "    def __init__(self, block, unembed_matrix, norm):\n",
    "        super().__init__()\n",
    "        self.block = block\n",
    "        self.unembed_matrix = unembed_matrix\n",
    "        self.norm = norm\n",
    "        self.block_output_unembedded = None\n",
    "\n",
    "    def forward(self, *args, **kwargs):\n",
    "        output = self.block(*args, **kwargs)\n",
    "        if isinstance(output, tuple):\n",
    "            self.block_output_unembedded = self.unembed_matrix(self.norm(output[0]))\n",
    "            return output\n",
    "        else:\n",
    "            self.block_output_unembedded = self.unembed_matrix(self.norm(output))\n",
    "            return output\n",
    "\n",
    "    def reset_block_output(self):\n",
    "        self.block_output_unembedded = None\n",
    "\n",
    "class LlamaHelper:\n",
    "    def __init__(self, config_file, model_path, test_set):\n",
    "        self.device = \"cuda\" if torch.cuda.is_available() else \"cpu\"\n",
    "        config = AutoConfig.from_pretrained(config_file)\n",
    "        model = InputEmbedCausalTransformer(AutoModelForCausalLM.from_config(config), test_set.input_dim)\n",
    "        state_dict = torch.load(model_path)\n",
    "        model.load_state_dict(state_dict, strict=False)\n",
    "        model = model.to(self.device)\n",
    "        self.model = model\n",
    "        self.word_index_map = test_set.word_index_map\n",
    "        self.data_len = test_set.data_len\n",
    "        self.mod = test_set.mod\n",
    "        self.input_dim = test_set.input_dim\n",
    "        \n",
    "        for i, layer in enumerate(self.model.base_model.model.layers):\n",
    "            self.model.base_model.model.layers[i] = BlockOutputWrapper(layer, self.model.base_model.lm_head, self.model.base_model.model.norm)\n",
    "\n",
    "    def decode_tensors(self, sequence):\n",
    "        decoded_sequence = []\n",
    "        marker_found = False\n",
    "\n",
    "        for token in sequence:\n",
    "            token = token.item()\n",
    "            if token == -100:\n",
    "                if not marker_found:\n",
    "                    decoded_sequence.append(\"[MASK]\")\n",
    "                continue\n",
    "            elif token == 0:\n",
    "                decoded_sequence.append(\"[EOS]\")\n",
    "                break  # Stop decoding after EOS\n",
    "            elif token < len(self.word_index_map):\n",
    "                # Regular word\n",
    "                word = list(self.word_index_map.keys())[list(self.word_index_map.values()).index(token)]\n",
    "                decoded_sequence.append(word)\n",
    "                if word in [\"A\", \"P\"]:\n",
    "                    marker_found = True\n",
    "            else:\n",
    "                # Handle digit labels\n",
    "                offset = len(self.word_index_map)\n",
    "                if token < offset + self.data_len * 2:\n",
    "                    # Tuple index encoding\n",
    "                    idx = (token - offset) % self.data_len\n",
    "                    tuple_pos = (token - offset) // self.data_len\n",
    "                    decoded_sequence.append(f\"{tuple_pos}-{idx}\")\n",
    "                else:\n",
    "                    # Single digit or digit in tuple\n",
    "                    char_pos = (token - offset - self.data_len * 2) // self.mod\n",
    "                    digit = (token - offset - self.data_len * 2) % self.mod\n",
    "                    if char_pos == 0 or len(decoded_sequence) == 0 or not decoded_sequence[-1][-1].isdigit():\n",
    "                        decoded_sequence.append(str(digit))\n",
    "                    else:\n",
    "                        decoded_sequence[-1] += str(digit)\n",
    "\n",
    "        return \" \".join(decoded_sequence)\n",
    "\n",
    "\n",
    "    def set_add_attn_output(self, layer, add_output):\n",
    "        self.model.base_model.model.layers[layer].attn_add_tensor(add_output)\n",
    "\n",
    "    def get_attn_activations(self, layer):\n",
    "        return self.model.base_model.model.layers[layer].get_attn_activations()\n",
    "\n",
    "    def reset_all_layers(self):\n",
    "        for layer in self.model.base_model.model.layers:\n",
    "            layer.reset_block_output()\n",
    "            \n",
    "    @staticmethod\n",
    "    def get_tokens(model, layer_idx, input_ids, decode_tensors, num_layers, rank=1, device=\"cuda\"):\n",
    "        with torch.no_grad():\n",
    "            outputs = model(input_ids.float().unsqueeze(0))\n",
    "            logits = outputs.logits\n",
    "            \n",
    "        last_token_logits = logits[0, -1, :]\n",
    "        \n",
    "        if layer_idx < num_layers:\n",
    "            layer = model.base_model.model.layers[layer_idx]\n",
    "            if layer.block_output_unembedded is not None:\n",
    "                last_token_logits = layer.block_output_unembedded[0, -1, :]\n",
    "        \n",
    "        val, idx = torch.topk(last_token_logits, rank)\n",
    "        token = decode_tensors(idx[-1].unsqueeze(-1)).strip()\n",
    "        \n",
    "        return token, idx[-1].item()\n",
    "\n",
    "    def create_new_token_input(self, token_id):\n",
    "        new_input = torch.zeros(1, self.input_dim, dtype=torch.float16)\n",
    "        if token_id < len(self.word_index_map):\n",
    "            new_input[0, token_id] = 1\n",
    "        else:\n",
    "            # Handle digit sequences\n",
    "            offset = len(self.word_index_map)\n",
    "            if token_id < offset + self.data_len * 2:\n",
    "                # Tuple index encoding\n",
    "                idx = (token_id - offset) % self.data_len\n",
    "                tuple_pos = (token_id - offset) // self.data_len\n",
    "                new_input[0, offset + tuple_pos * self.data_len + idx] = 1\n",
    "            else:\n",
    "                # Single digit or digit in tuple\n",
    "                char_pos = (token_id - offset - self.data_len * 2) // self.mod\n",
    "                digit = (token_id - offset - self.data_len * 2) % self.mod\n",
    "                new_input[0, offset + self.data_len * 2 + char_pos * self.mod + digit] = 1\n",
    "        return new_input\n",
    "\n",
    "    def print_logit_progression(self, inputs, max_new_tokens=20, layer_number=None, rank=1):\n",
    "        self.reset_all_layers()\n",
    "        num_layers = len(self.model.base_model.model.layers)\n",
    "        result_dict = {f\"h{i}_out\": [] for i in range(num_layers + 1)}\n",
    "        result_dict[\"h_out\"] = []\n",
    "        input_ids = inputs['input_ids'].to(self.device)\n",
    "        generated_sequence = input_ids.clone()\n",
    "\n",
    "        for _ in range(max_new_tokens):\n",
    "            self.reset_all_layers()\n",
    "            \n",
    "            if layer_number is not None:\n",
    "                if layer_number > num_layers:\n",
    "                    print(f\"Error: Layer number {layer_number} is out of range. Max layer is {num_layers}.\")\n",
    "                    return {}\n",
    "                token, token_id = self.get_tokens(self.model, layer_number, generated_sequence, self.decode_tensors, num_layers, rank, self.device)\n",
    "                layer_name = f\"h{layer_number}_out\" if layer_number < num_layers else \"h_out\"\n",
    "                result_dict[layer_name].append(token)\n",
    "            else:\n",
    "                for i in range(num_layers + 1):\n",
    "                    token, token_id = self.get_tokens(self.model, i, generated_sequence, self.decode_tensors, num_layers, rank, self.device)\n",
    "                    layer_name = f\"h{i}_out\" if i < num_layers else \"h_out\"\n",
    "                    result_dict[layer_name].append(token)\n",
    "            \n",
    "            new_token_input = self.create_new_token_input(token_id).to(self.device)\n",
    "            generated_sequence = torch.cat([generated_sequence, new_token_input], dim=0)\n",
    "            \n",
    "            if token == \"[EOS]\":\n",
    "                break\n",
    "\n",
    "        # Print results\n",
    "        if layer_number is not None:\n",
    "            layer_name = f\"h{layer_number}_out\" if layer_number < num_layers else \"h_out\"\n",
    "            print(f\"{rank}th highest logit for {layer_name}:\")\n",
    "            print(\" \".join(result_dict[layer_name]))\n",
    "        else:\n",
    "            print(f\"{rank}th highest logit:\")\n",
    "            for layer_name, tokens in result_dict.items():\n",
    "                print(f\"{layer_name:<5}: \" + \" \".join(tokens))\n",
    "\n",
    "        return result_dict"
   ]
  },
  {
   "cell_type": "code",
   "execution_count": 134,
   "metadata": {},
   "outputs": [],
   "source": [
    "model = LlamaHelper(CONFIG_FILE, MODEL_PATH, test_set)"
   ]
  },
  {
   "cell_type": "code",
   "execution_count": 135,
   "metadata": {},
   "outputs": [
    {
     "data": {
      "text/plain": [
       "' 433 450 421 129 107 924 489 711 540 034 P 0- 3 0- 4 3- 2 4- 0 5- 5 0- 8 7- 1 0- 7 9- 4 1- 8 3- 5 1- 7 1- 3 6- 8 1- 1 8- 9 9- 4 3- 5 4- 2 5- 5 6- 8 2- 2 2- 6 9- 5 3- 2 5- 0 6- 5 3- 0 8- 9 9- 5 4- 2 6- 8 7- 1 8- 4 4- 3 6- 3 5- 6 8- 4 9- 8 7- 9 8- 9 6- 1 7- 2 7- 7 9- 7 9- 5 A False'"
      ]
     },
     "execution_count": 135,
     "metadata": {},
     "output_type": "execute_result"
    }
   ],
   "source": [
    "test_df.iloc[0].text"
   ]
  },
  {
   "cell_type": "code",
   "execution_count": 136,
   "metadata": {},
   "outputs": [
    {
     "data": {
      "text/plain": [
       "'[MASK] [MASK] [MASK] [MASK] [MASK] [MASK] [MASK] [MASK] [MASK] [MASK] 0-0 3 0-0 4 0-3 2 0-4 0 0-5 5 0-0 8 0-7 1 0-0 7 0-9 4 0-1 8 0-3 5 0-1 7 0-1 3 0-6 8 0-1 1 0-8 9 0-9 4 0-3 5 0-4 2 0-5 5 0-6 8 0-2 2 0-2 6 0-9 5 0-3 2 0-5 0 0-6 5 0-3 0 0-8 9 0-9 5 0-4 2 0-6 8 0-7 1 0-8 4 0-4 3 0-6 3 0-5 6 0-8 4 0-9 8 0-7 9 0-8 9 0-6 1 0-7 2 0-7 7 0-9 7 0-9 5 A False [EOS]'"
      ]
     },
     "execution_count": 136,
     "metadata": {},
     "output_type": "execute_result"
    }
   ],
   "source": [
    "model.decode_tensors(test_set[0]['labels'])"
   ]
  },
  {
   "cell_type": "code",
   "execution_count": 137,
   "metadata": {
    "scrolled": false
   },
   "outputs": [
    {
     "name": "stdout",
     "output_type": "stream",
     "text": [
      "1th highest logit:\n",
      "h0_out: [EOS] [EOS] A [EOS] [EOS] [EOS] [EOS] [EOS] [EOS] [EOS] [EOS] [EOS] 9 5 [EOS] [EOS] [EOS] [EOS] [EOS] .\n",
      "h1_out: 2 2 2 A A A A A A A A A A A A A A A A A\n",
      "h2_out: . . . A A A A A [EOS] A A A . . A [EOS] A A . .\n",
      "h3_out: . . . . . . . . . . . . . . . . . . . .\n",
      "h4_out: \n",
      "h_out: . . . . . . . . . . . . . . . . . . . .\n",
      "\n",
      "\n",
      "2th highest logit:\n",
      "h0_out: 3 9 [EOS] 9 A 9 A 9 9 9 9 9 9 9 9 9 6 9 0-2 True\n",
      "h1_out: 8 8 A 9 0-0 2 3 2 2 2 9 9 7 7 6 6 [EOS] 2 7 6\n",
      "h2_out: 2 2 [EOS] . A 0-9 A . . . . . 9 [EOS] . . [EOS] . 9 .\n",
      "h3_out: False . False A True A True False False False False False . False False . True False False .\n",
      "h4_out: \n",
      "h_out: False . False A True A True False False False False False . False False . True False False .\n",
      "__________________________________________________________________________________________________________________\n"
     ]
    }
   ],
   "source": [
    "model.print_logit_progression(test_set[50], rank=1)\n",
    "print(\"\\n\")\n",
    "model.print_logit_progression(test_set[50], rank=2)\n",
    "print(\"_\"*114)"
   ]
  }
 ],
 "metadata": {
  "interpreter": {
   "hash": "d82929f0b2a0bc732f0b4a7de66959930da3979fa54e053e3cc98d8b0f7a869f"
  },
  "kernelspec": {
   "display_name": "Python 3 (ipykernel)",
   "language": "python",
   "name": "python3"
  },
  "language_info": {
   "codemirror_mode": {
    "name": "ipython",
    "version": 3
   },
   "file_extension": ".py",
   "mimetype": "text/x-python",
   "name": "python",
   "nbconvert_exporter": "python",
   "pygments_lexer": "ipython3",
   "version": "3.11.5"
  }
 },
 "nbformat": 4,
 "nbformat_minor": 2
}
