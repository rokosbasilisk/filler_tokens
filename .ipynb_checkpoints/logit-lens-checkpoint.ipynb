{
 "cells": [
  {
   "cell_type": "code",
   "execution_count": 324,
   "metadata": {},
   "outputs": [],
   "source": [
    "from src.match3 import *\n",
    "from src.utils import InputEmbedCausalTransformer\n",
    "from tqdm import tqdm\n",
    "from transformers import AutoModelForCausalLM, AutoTokenizer, AutoConfig\n",
    "import Levenshtein\n",
    "import json\n",
    "import numpy as np\n",
    "import os \n",
    "import pandas as pd\n",
    "import random\n",
    "import torch\n",
    "import torch.nn.functional as F"
   ]
  },
  {
   "cell_type": "code",
   "execution_count": 3,
   "metadata": {},
   "outputs": [],
   "source": [
    "MODEL_PATH = \"/home/loki/projects/filler_tokens/output_dir/2024-08-14-22-matchdata-checkpoint-final/model_weights.pt\"\n",
    "CONFIG_FILE = \"/home/loki/projects/filler_tokens/misc/llama_d384l4h6.json\""
   ]
  },
  {
   "cell_type": "code",
   "execution_count": 4,
   "metadata": {},
   "outputs": [],
   "source": [
    "train_df = pd.read_csv('data/matchdata_trainset_2024-08-13.csv', header=None, names=[\"text\"])\n",
    "test_df = pd.read_csv('data/matchdata_testset_2024-08-13.csv', header=None, names=[\"text\"])"
   ]
  },
  {
   "cell_type": "code",
   "execution_count": 314,
   "metadata": {},
   "outputs": [
    {
     "name": "stdout",
     "output_type": "stream",
     "text": [
      "validate encodings\n",
      "raw input 0  339 234 230 125 222 811 686 534 369 258 P 1- 5 2- 6 3- 4 4- 5 0- 1 0- 9 0- 8 0- 9 0- 8 1- 6 1- 9 4- 6 5- 4 6- 8 1- 7 1- 9 1- 4 3- 5 4- 2 2- 0 2- 6 7- 4 2- 9 9- 8 4- 7 3- 9 6- 7 7- 6 3- 4 3- 7 5- 3 4- 0 4- 7 4- 1 4- 4 6- 9 7- 3 5- 0 9- 0 7- 1 8- 9 6- 8 8- 8 9- 8 8- 1 9- 1 A False\n",
      "encoded sample 0 {'input_ids': tensor([[0., 0., 0.,  ..., 0., 0., 0.],\n",
      "        [0., 0., 0.,  ..., 0., 0., 0.],\n",
      "        [0., 0., 0.,  ..., 0., 0., 0.],\n",
      "        ...,\n",
      "        [1., 0., 0.,  ..., 0., 0., 0.],\n",
      "        [1., 0., 0.,  ..., 0., 0., 0.],\n",
      "        [1., 0., 0.,  ..., 0., 0., 0.]], dtype=torch.float16), 'labels': tensor([-100, -100, -100, -100, -100, -100, -100, -100, -100, -100,    6,   30,\n",
      "           7,   31,    8,   29,    9,   30,    5,   26,    5,   34,    5,   33,\n",
      "           5,   34,    5,   33,    6,   31,    6,   34,    9,   31,   10,   29,\n",
      "          11,   33,    6,   32,    6,   34,    6,   29,    8,   30,    9,   27,\n",
      "           7,   25,    7,   31,   12,   29,    7,   34,   14,   33,    9,   32,\n",
      "           8,   34,   11,   32,   12,   31,    8,   29,    8,   32,   10,   28,\n",
      "           9,   25,    9,   32,    9,   26,    9,   29,   11,   34,   12,   28,\n",
      "          10,   25,   14,   25,   12,   26,   13,   34,   11,   33,   13,   33,\n",
      "          14,   33,   13,   26,   14,   26,    4,    2,    0, -100, -100, -100,\n",
      "        -100, -100, -100, -100, -100, -100])}\n"
     ]
    }
   ],
   "source": [
    "train_set = Match3VectorDataset(train_df, 3, 10, 10, 'P')"
   ]
  },
  {
   "cell_type": "code",
   "execution_count": 5,
   "metadata": {},
   "outputs": [
    {
     "name": "stdout",
     "output_type": "stream",
     "text": [
      "validate encodings\n",
      "raw input 0  433 450 421 129 107 924 489 711 540 034 P 0- 3 0- 4 3- 2 4- 0 5- 5 0- 8 7- 1 0- 7 9- 4 1- 8 3- 5 1- 7 1- 3 6- 8 1- 1 8- 9 9- 4 3- 5 4- 2 5- 5 6- 8 2- 2 2- 6 9- 5 3- 2 5- 0 6- 5 3- 0 8- 9 9- 5 4- 2 6- 8 7- 1 8- 4 4- 3 6- 3 5- 6 8- 4 9- 8 7- 9 8- 9 6- 1 7- 2 7- 7 9- 7 9- 5 A False\n",
      "encoded sample 0 {'input_ids': tensor([[0., 0., 0.,  ..., 0., 0., 0.],\n",
      "        [0., 0., 0.,  ..., 0., 0., 0.],\n",
      "        [0., 0., 0.,  ..., 0., 0., 0.],\n",
      "        ...,\n",
      "        [1., 0., 0.,  ..., 0., 0., 0.],\n",
      "        [1., 0., 0.,  ..., 0., 0., 0.],\n",
      "        [1., 0., 0.,  ..., 0., 0., 0.]], dtype=torch.float16), 'labels': tensor([-100, -100, -100, -100, -100, -100, -100, -100, -100, -100,    5,   28,\n",
      "           5,   29,    8,   27,    9,   25,   10,   30,    5,   33,   12,   26,\n",
      "           5,   32,   14,   29,    6,   33,    8,   30,    6,   32,    6,   28,\n",
      "          11,   33,    6,   26,   13,   34,   14,   29,    8,   30,    9,   27,\n",
      "          10,   30,   11,   33,    7,   27,    7,   31,   14,   30,    8,   27,\n",
      "          10,   25,   11,   30,    8,   25,   13,   34,   14,   30,    9,   27,\n",
      "          11,   33,   12,   26,   13,   29,    9,   28,   11,   28,   10,   31,\n",
      "          13,   29,   14,   33,   12,   34,   13,   34,   11,   26,   12,   27,\n",
      "          12,   32,   14,   32,   14,   30,    4,    2,    0, -100, -100, -100,\n",
      "        -100, -100, -100, -100, -100, -100])}\n",
      "65\n"
     ]
    }
   ],
   "source": [
    "test_set = Match3VectorDataset(test_df, 3, 10, 10, 'P')\n",
    "print(test_set.input_dim)"
   ]
  },
  {
   "cell_type": "code",
   "execution_count": 6,
   "metadata": {},
   "outputs": [
    {
     "data": {
      "text/plain": [
       "tensor([[[0., 0., 0.,  ..., 0., 0., 0.],\n",
       "         [0., 0., 0.,  ..., 0., 0., 0.],\n",
       "         [0., 0., 0.,  ..., 0., 0., 0.],\n",
       "         ...,\n",
       "         [0., 0., 0.,  ..., 0., 0., 0.],\n",
       "         [0., 0., 1.,  ..., 0., 0., 0.],\n",
       "         [1., 0., 0.,  ..., 0., 0., 0.]]], dtype=torch.float16)"
      ]
     },
     "execution_count": 6,
     "metadata": {},
     "output_type": "execute_result"
    }
   ],
   "source": [
    "test_set.tensorize_inputs_worker(pd.Series({\"text\":test_df.iloc[-1]}))"
   ]
  },
  {
   "cell_type": "code",
   "execution_count": 7,
   "metadata": {},
   "outputs": [],
   "source": [
    "def string_to_input_tensors(input_string):\n",
    "    return {\"input_ids\":test_set.tensorize_inputs_worker({\"text\":pd.Series([input_string], index=['text'], name='1999')}).squeeze()}"
   ]
  },
  {
   "cell_type": "code",
   "execution_count": 8,
   "metadata": {},
   "outputs": [
    {
     "data": {
      "text/plain": [
       "{'input_ids': tensor([[0., 0., 0.,  ..., 0., 0., 0.],\n",
       "         [0., 0., 0.,  ..., 0., 0., 0.],\n",
       "         [0., 0., 0.,  ..., 0., 0., 0.],\n",
       "         ...,\n",
       "         [1., 0., 0.,  ..., 0., 0., 0.],\n",
       "         [1., 0., 0.,  ..., 0., 0., 0.],\n",
       "         [1., 0., 0.,  ..., 0., 0., 0.]], dtype=torch.float16)}"
      ]
     },
     "execution_count": 8,
     "metadata": {},
     "output_type": "execute_result"
    }
   ],
   "source": [
    "string_to_input_tensors(\"1 P A\")"
   ]
  },
  {
   "cell_type": "code",
   "execution_count": 9,
   "metadata": {},
   "outputs": [],
   "source": [
    "def string_to_label_tensors(input_string):\n",
    "    return {\"labels\":test_set.tensorize_labels_worker({\"text\":pd.Series([input_string], index=['text'], name='1999')})}"
   ]
  },
  {
   "cell_type": "code",
   "execution_count": 10,
   "metadata": {},
   "outputs": [
    {
     "data": {
      "text/plain": [
       "{'input_ids': tensor([[0., 0., 0.,  ..., 0., 0., 0.],\n",
       "         [0., 0., 0.,  ..., 0., 0., 0.],\n",
       "         [0., 0., 0.,  ..., 0., 0., 0.],\n",
       "         ...,\n",
       "         [1., 0., 0.,  ..., 0., 0., 0.],\n",
       "         [1., 0., 0.,  ..., 0., 0., 0.],\n",
       "         [1., 0., 0.,  ..., 0., 0., 0.]], dtype=torch.float16)}"
      ]
     },
     "execution_count": 10,
     "metadata": {},
     "output_type": "execute_result"
    }
   ],
   "source": [
    "string_to_input_tensors(\"100 P A\")"
   ]
  },
  {
   "cell_type": "code",
   "execution_count": 387,
   "metadata": {},
   "outputs": [],
   "source": [
    "class BlockOutputWrapper(torch.nn.Module):\n",
    "    def __init__(self, block, unembed_matrix, norm):\n",
    "        super().__init__()\n",
    "        self.block = block\n",
    "        self.unembed_matrix = unembed_matrix\n",
    "        self.norm = norm\n",
    "        self.block_output_unembedded = None\n",
    "\n",
    "    def forward(self, *args, **kwargs):\n",
    "        output = self.block(*args, **kwargs)\n",
    "        if isinstance(output, tuple):\n",
    "            self.block_output_unembedded = self.unembed_matrix(self.norm(output[0]))\n",
    "            return output\n",
    "        else:\n",
    "            self.block_output_unembedded = self.unembed_matrix(self.norm(output))\n",
    "            return output\n",
    "\n",
    "    def reset_block_output(self):\n",
    "        self.block_output_unembedded = None\n",
    "\n",
    "class LlamaHelper:\n",
    "    def __init__(self, config_file, model_path, test_set):\n",
    "        self.device = \"cuda\" if torch.cuda.is_available() else \"cpu\"\n",
    "        config = AutoConfig.from_pretrained(config_file)\n",
    "        model = InputEmbedCausalTransformer(AutoModelForCausalLM.from_config(config), test_set.input_dim)\n",
    "        state_dict = torch.load(model_path)\n",
    "        model.load_state_dict(state_dict, strict=False)\n",
    "        model = model.to(self.device)\n",
    "        self.model = model\n",
    "        self.word_index_map = test_set.word_index_map\n",
    "        self.data_len = test_set.data_len\n",
    "        self.mod = test_set.mod\n",
    "        self.input_dim = test_set.input_dim\n",
    "        \n",
    "        for i, layer in enumerate(self.model.base_model.model.layers):\n",
    "            self.model.base_model.model.layers[i] = BlockOutputWrapper(layer, self.model.base_model.lm_head, self.model.base_model.model.norm)\n",
    "\n",
    "    def decode_tensors(self, sequence):\n",
    "        decoded_sequence = []\n",
    "        marker_found = False\n",
    "\n",
    "        for token in sequence:\n",
    "            token = token.item()\n",
    "            if token == -100:\n",
    "                if not marker_found:\n",
    "                    decoded_sequence.append(\"[MASK]\")\n",
    "                continue\n",
    "            elif token == 0:\n",
    "                decoded_sequence.append(\"[EOS]\")\n",
    "                break  # Stop decoding after EOS\n",
    "            elif token < len(self.word_index_map):\n",
    "                # Regular word\n",
    "                word = list(self.word_index_map.keys())[list(self.word_index_map.values()).index(token)]\n",
    "                decoded_sequence.append(word)\n",
    "                if word in [\"A\", \"P\"]:\n",
    "                    marker_found = True\n",
    "            else:\n",
    "                # Handle digit labels\n",
    "                offset = len(self.word_index_map)\n",
    "                if token < offset + self.data_len * 2:\n",
    "                    # Tuple index encoding\n",
    "                    idx = (token - offset) % self.data_len\n",
    "                    tuple_pos = (token - offset) // self.data_len\n",
    "                    decoded_sequence.append(f\"{tuple_pos}-{idx}\")\n",
    "                else:\n",
    "                    # Single digit or digit in tuple\n",
    "                    char_pos = (token - offset - self.data_len * 2) // self.mod\n",
    "                    digit = (token - offset - self.data_len * 2) % self.mod\n",
    "                    if char_pos == 0 or len(decoded_sequence) == 0 or not decoded_sequence[-1][-1].isdigit():\n",
    "                        decoded_sequence.append(str(digit))\n",
    "                    else:\n",
    "                        decoded_sequence[-1] += str(digit)\n",
    "\n",
    "        return \" \".join(decoded_sequence)\n",
    "\n",
    "\n",
    "    def set_add_attn_output(self, layer, add_output):\n",
    "        self.model.base_model.model.layers[layer].attn_add_tensor(add_output)\n",
    "\n",
    "    def get_attn_activations(self, layer):\n",
    "        return self.model.base_model.model.layers[layer].get_attn_activations()\n",
    "\n",
    "    def reset_all_layers(self):\n",
    "        for layer in self.model.base_model.model.layers:\n",
    "            layer.reset_block_output()\n",
    "            \n",
    "    @staticmethod\n",
    "    def get_tokens(model, layer_idx, input_ids, decode_tensors, num_layers, rank=1, device=\"cuda\", skip_idx=None, skip_random=False):\n",
    "        with torch.no_grad():\n",
    "            outputs = model(input_ids.float().unsqueeze(0))\n",
    "            logits = outputs.logits\n",
    "        last_token_logits = logits[0, -1, :]\n",
    "        if layer_idx < num_layers:\n",
    "            layer = model.base_model.model.layers[layer_idx]\n",
    "            if layer.block_output_unembedded is not None:\n",
    "                last_token_logits = layer.block_output_unembedded[0, -1, :]\n",
    "\n",
    "        # Get top k values and indices, where k is max(rank + 10, 100) to allow for skipping and random selection\n",
    "        k = max(rank + 10, 100)\n",
    "        val, idx = torch.topk(last_token_logits, k)\n",
    "\n",
    "        # If skip_idx is provided, remove it from consideration\n",
    "        if skip_idx is not None:\n",
    "            mask = ~torch.isin(idx, torch.tensor(skip_idx, device=device))\n",
    "            idx = idx[mask]\n",
    "            val = val[mask]\n",
    "\n",
    "        if skip_random and skip_idx is not None:\n",
    "            # Randomly select from top 10 non-skipped tokens\n",
    "            random_idx = torch.randint(0, min(10, len(idx)), (1,))\n",
    "            selected_idx = random_idx.item()\n",
    "        else:\n",
    "            # Select the token at the specified rank (subtracting 1 because rank is 1-indexed)\n",
    "            selected_idx = min(rank - 1, len(idx) - 1)\n",
    "\n",
    "        token = decode_tensors(idx[selected_idx].unsqueeze(-1)).strip()\n",
    "        return token, idx[selected_idx].item()\n",
    "\n",
    "\n",
    "    def create_new_token_input(self, token_id):\n",
    "        new_input = torch.zeros(1, self.input_dim, dtype=torch.float16)\n",
    "        if token_id < len(self.word_index_map):\n",
    "            new_input[0, token_id] = 1\n",
    "        else:\n",
    "            # Handle digit sequences\n",
    "            offset = len(self.word_index_map)\n",
    "            if token_id < offset + self.data_len * 2:\n",
    "                # Tuple index encoding\n",
    "                idx = (token_id - offset) % self.data_len\n",
    "                tuple_pos = (token_id - offset) // self.data_len\n",
    "                new_input[0, offset + tuple_pos * self.data_len + idx] = 1\n",
    "            else:\n",
    "                # Single digit or digit in tuple\n",
    "                char_pos = (token_id - offset - self.data_len * 2) // self.mod\n",
    "                digit = (token_id - offset - self.data_len * 2) % self.mod\n",
    "                new_input[0, offset + self.data_len * 2 + char_pos * self.mod + digit] = 1\n",
    "        return new_input\n",
    "    \n",
    "\n",
    "    def print_logit_progression(self, inputs,\n",
    "                                max_new_tokens=len(test_set[0]['labels']),\n",
    "                                layer_number=None,\n",
    "                                rank=1,\n",
    "                                skip_idx=None,\n",
    "                                input_length=None,\n",
    "                                skip_random=False):\n",
    "\n",
    "        self.reset_all_layers()\n",
    "        num_layers = len(self.model.base_model.model.layers)\n",
    "        result_dict = {f\"h{i}_out\": [] for i in range(num_layers)}\n",
    "        result_dict[\"h_out\"] = []\n",
    "        input_ids = inputs['input_ids'].to(self.device)\n",
    "        if input_length:\n",
    "            input_ids = input_ids[:input_length]\n",
    "        generated_sequence = input_ids.clone()\n",
    "        for _ in range(max_new_tokens):\n",
    "            self.reset_all_layers()\n",
    "\n",
    "            if layer_number is not None:\n",
    "                if layer_number > num_layers:\n",
    "                    print(f\"Error: Layer number {layer_number} is out of range. Max layer is {num_layers}.\")\n",
    "                    return {}\n",
    "                token, token_id = self.get_tokens(self.model, layer_number, generated_sequence, self.decode_tensors, num_layers, rank, self.device, skip_idx, skip_random)\n",
    "                layer_name = f\"h{layer_number}_out\" if layer_number < num_layers else \"h_out\"\n",
    "                result_dict[layer_name].append(token)\n",
    "            else:\n",
    "                for i in range(num_layers + 1):\n",
    "                    token, token_id = self.get_tokens(self.model, i, generated_sequence, self.decode_tensors, num_layers, rank, self.device, skip_idx, skip_random)\n",
    "                    layer_name = f\"h{i}_out\" if i < num_layers else \"h_out\"\n",
    "                    result_dict[layer_name].append(token)\n",
    "\n",
    "            if token in [\"[EOS]\",\"True\",\"False\"]: break\n",
    "            try:\n",
    "                new_token_input = self.create_new_token_input(token_id).to(self.device)\n",
    "\n",
    "                generated_sequence = torch.cat([generated_sequence, new_token_input], dim=0)\n",
    "            except:\n",
    "                generated_sequence = torch.cat([generated_sequence], dim=0)\n",
    "                break\n",
    "        # Print results\n",
    "        if layer_number is not None:\n",
    "            layer_name = f\"h{layer_number}_out\" if layer_number < num_layers else \"h_out\"\n",
    "            print(f\"{rank}th highest logit for {layer_name}:\")\n",
    "            print(\" \".join(result_dict[layer_name]))\n",
    "        else:\n",
    "            print(f\"{rank}th highest logit:\")\n",
    "            for layer_name, tokens in result_dict.items():\n",
    "                print(f\"{layer_name:<5}: \" + \" \".join(tokens))\n",
    "        return result_dict\n",
    "\n",
    "    def get_layer_logits(self, inputs, layer_idx):\n",
    "        self.reset_all_layers()\n",
    "        num_layers = len(self.model.base_model.model.layers)\n",
    "        \n",
    "        if layer_idx > num_layers:\n",
    "            raise ValueError(f\"Error: Layer number {layer_idx} is out of range. Max layer is {num_layers}.\")\n",
    "        \n",
    "        input_ids = inputs['input_ids'].to(self.device)\n",
    "        \n",
    "        with torch.no_grad():\n",
    "            outputs = self.model(input_ids.float().unsqueeze(0))\n",
    "            logits = outputs.logits\n",
    "        \n",
    "        if layer_idx < num_layers:\n",
    "            layer = self.model.base_model.model.layers[layer_idx]\n",
    "            if layer.block_output_unembedded is not None:\n",
    "                logits = layer.block_output_unembedded\n",
    "        \n",
    "        return logits\n"
   ]
  },
  {
   "cell_type": "code",
   "execution_count": 388,
   "metadata": {},
   "outputs": [],
   "source": [
    "model = LlamaHelper(CONFIG_FILE, MODEL_PATH, test_set)"
   ]
  },
  {
   "cell_type": "code",
   "execution_count": 390,
   "metadata": {},
   "outputs": [
    {
     "name": "stdout",
     "output_type": "stream",
     "text": [
      "1th highest logit for h_out:\n",
      "0-4 3 0-9 8 0-3 4 0-4 6 0-0 0 0-5 4 0-9 1 0-6 9 0-0 8 0-9 9 0-8 0-5 0-0 1 0-2 5 0-4 7 0-8 8 0-8 4 0-3 0 0-1 7 0-0 1 0-6 0-3 3 0-9 3 0-9 4 0-6 3 5 0-8 0 0-1 3 0-3 7 7 0-0 5 0-3 5 0-9 3 0-9 2 0-1 9 0-4 5 0-2 0-9 0-9 9 0-0 9 0-6 7 0-3 0-0 0-9 5 1 0-0 0-8 5 0-3 3 0-2 0-3 1 0-8 3 0-9 9 A 0-0 0-9 3 0-5 1 0-2 0-6 0-3 0-7 [EOS]\n"
     ]
    },
    {
     "data": {
      "text/plain": [
       "{'h0_out': [],\n",
       " 'h1_out': [],\n",
       " 'h2_out': [],\n",
       " 'h3_out': [],\n",
       " 'h_out': ['0-4',\n",
       "  '3',\n",
       "  '0-9',\n",
       "  '8',\n",
       "  '0-3',\n",
       "  '4',\n",
       "  '0-4',\n",
       "  '6',\n",
       "  '0-0',\n",
       "  '0',\n",
       "  '0-5',\n",
       "  '4',\n",
       "  '0-9',\n",
       "  '1',\n",
       "  '0-6',\n",
       "  '9',\n",
       "  '0-0',\n",
       "  '8',\n",
       "  '0-9',\n",
       "  '9',\n",
       "  '0-8',\n",
       "  '0-5',\n",
       "  '0-0',\n",
       "  '1',\n",
       "  '0-2',\n",
       "  '5',\n",
       "  '0-4',\n",
       "  '7',\n",
       "  '0-8',\n",
       "  '8',\n",
       "  '0-8',\n",
       "  '4',\n",
       "  '0-3',\n",
       "  '0',\n",
       "  '0-1',\n",
       "  '7',\n",
       "  '0-0',\n",
       "  '1',\n",
       "  '0-6',\n",
       "  '0-3',\n",
       "  '3',\n",
       "  '0-9',\n",
       "  '3',\n",
       "  '0-9',\n",
       "  '4',\n",
       "  '0-6',\n",
       "  '3',\n",
       "  '5',\n",
       "  '0-8',\n",
       "  '0',\n",
       "  '0-1',\n",
       "  '3',\n",
       "  '0-3',\n",
       "  '7',\n",
       "  '7',\n",
       "  '0-0',\n",
       "  '5',\n",
       "  '0-3',\n",
       "  '5',\n",
       "  '0-9',\n",
       "  '3',\n",
       "  '0-9',\n",
       "  '2',\n",
       "  '0-1',\n",
       "  '9',\n",
       "  '0-4',\n",
       "  '5',\n",
       "  '0-2',\n",
       "  '0-9',\n",
       "  '0-9',\n",
       "  '9',\n",
       "  '0-0',\n",
       "  '9',\n",
       "  '0-6',\n",
       "  '7',\n",
       "  '0-3',\n",
       "  '0-0',\n",
       "  '0-9',\n",
       "  '5',\n",
       "  '1',\n",
       "  '0-0',\n",
       "  '0-8',\n",
       "  '5',\n",
       "  '0-3',\n",
       "  '3',\n",
       "  '0-2',\n",
       "  '0-3',\n",
       "  '1',\n",
       "  '0-8',\n",
       "  '3',\n",
       "  '0-9',\n",
       "  '9',\n",
       "  'A',\n",
       "  '0-0',\n",
       "  '0-9',\n",
       "  '3',\n",
       "  '0-5',\n",
       "  '1',\n",
       "  '0-2',\n",
       "  '0-6',\n",
       "  '0-3',\n",
       "  '0-7',\n",
       "  '[EOS]']}"
      ]
     },
     "execution_count": 390,
     "metadata": {},
     "output_type": "execute_result"
    }
   ],
   "source": [
    "model.print_logit_progression(test_set[0], rank=rank, layer_number=4, skip_idx=3, input_length=11, skip_random=True)"
   ]
  },
  {
   "cell_type": "code",
   "execution_count": 389,
   "metadata": {
    "collapsed": true
   },
   "outputs": [
    {
     "name": "stdout",
     "output_type": "stream",
     "text": [
      "1th highest logit for h_out:\n",
      "0-0 8 0-2 8 0-0 5 0-0 3 0-5 7 0-6 2 0-0 4 0-0 7 0-0 6 0-2 8 0-3 9 0-4 5 0-1 7 0-1 9 0-7 1 0-8 9 0-1 4 0-3 5 0-2 2 0-5 4 0-6 0 0-2 2 0-2 6 0-9 5 0-4 2 0-3 3 0-3 8 0-3 3 0-8 6 0-9 1 0-4 1 0-6 8 0-4 8 0-4 4 0-4 1 0-6 3 0-5 5 0-5 4 0-5 8 0-6 1 0-6 9 0-6 4 0-7 1 0-9 7 0-8 5 0-9 5 A False\n"
     ]
    },
    {
     "data": {
      "text/plain": [
       "{'h0_out': [],\n",
       " 'h1_out': [],\n",
       " 'h2_out': [],\n",
       " 'h3_out': [],\n",
       " 'h_out': ['0-0',\n",
       "  '8',\n",
       "  '0-2',\n",
       "  '8',\n",
       "  '0-0',\n",
       "  '5',\n",
       "  '0-0',\n",
       "  '3',\n",
       "  '0-5',\n",
       "  '7',\n",
       "  '0-6',\n",
       "  '2',\n",
       "  '0-0',\n",
       "  '4',\n",
       "  '0-0',\n",
       "  '7',\n",
       "  '0-0',\n",
       "  '6',\n",
       "  '0-2',\n",
       "  '8',\n",
       "  '0-3',\n",
       "  '9',\n",
       "  '0-4',\n",
       "  '5',\n",
       "  '0-1',\n",
       "  '7',\n",
       "  '0-1',\n",
       "  '9',\n",
       "  '0-7',\n",
       "  '1',\n",
       "  '0-8',\n",
       "  '9',\n",
       "  '0-1',\n",
       "  '4',\n",
       "  '0-3',\n",
       "  '5',\n",
       "  '0-2',\n",
       "  '2',\n",
       "  '0-5',\n",
       "  '4',\n",
       "  '0-6',\n",
       "  '0',\n",
       "  '0-2',\n",
       "  '2',\n",
       "  '0-2',\n",
       "  '6',\n",
       "  '0-9',\n",
       "  '5',\n",
       "  '0-4',\n",
       "  '2',\n",
       "  '0-3',\n",
       "  '3',\n",
       "  '0-3',\n",
       "  '8',\n",
       "  '0-3',\n",
       "  '3',\n",
       "  '0-8',\n",
       "  '6',\n",
       "  '0-9',\n",
       "  '1',\n",
       "  '0-4',\n",
       "  '1',\n",
       "  '0-6',\n",
       "  '8',\n",
       "  '0-4',\n",
       "  '8',\n",
       "  '0-4',\n",
       "  '4',\n",
       "  '0-4',\n",
       "  '1',\n",
       "  '0-6',\n",
       "  '3',\n",
       "  '0-5',\n",
       "  '5',\n",
       "  '0-5',\n",
       "  '4',\n",
       "  '0-5',\n",
       "  '8',\n",
       "  '0-6',\n",
       "  '1',\n",
       "  '0-6',\n",
       "  '9',\n",
       "  '0-6',\n",
       "  '4',\n",
       "  '0-7',\n",
       "  '1',\n",
       "  '0-9',\n",
       "  '7',\n",
       "  '0-8',\n",
       "  '5',\n",
       "  '0-9',\n",
       "  '5',\n",
       "  'A',\n",
       "  'False']}"
      ]
     },
     "execution_count": 389,
     "metadata": {},
     "output_type": "execute_result"
    }
   ],
   "source": [
    "model.print_logit_progression(test_set[0], rank=rank, layer_number=4, skip_idx=3, input_length=11)"
   ]
  },
  {
   "cell_type": "code",
   "execution_count": null,
   "metadata": {
    "scrolled": true
   },
   "outputs": [
    {
     "name": "stderr",
     "output_type": "stream",
     "text": [
      "\r",
      "  0%|          | 0/2000 [00:00<?, ?it/s]"
     ]
    },
    {
     "name": "stdout",
     "output_type": "stream",
     "text": [
      "1th highest logit:\n",
      "h0_out: . [EOS] A 0-0 0-0 [EOS] [EOS] [EOS] [EOS] [EOS] A [EOS] 0 0 0-2 0-9 4 4 0 9 0-0 0-0 1 1 [EOS] 2 A 0 [EOS] [EOS] 9 True 7 0-2 0-2 A A [EOS] [EOS] [EOS] A . . [EOS] A A A [EOS] [EOS] [EOS] [EOS] 3 4 1 0-0 0-0 5 9 9 [EOS] [EOS] [EOS] A 1 6 9 [EOS] [EOS] [EOS] [EOS] A 4 [EOS] 6 6 [EOS] [EOS] [EOS] [EOS] A 5 [EOS] [EOS] [EOS] [EOS] [EOS] [EOS] [EOS] [EOS] [EOS] [EOS] [EOS] [EOS] [EOS] [EOS] [EOS] A 2 2 [EOS] [EOS] A\n",
      "h1_out: . 6 4 4 4 4 4 4 2 2 A A A A 2 2 4 4 3 3 2 2 4 4 4 A A A A A 8 2 2 A A A A 3 8 8 A A A 6 6 6 A 8 8 9 1 1 5 A 5 8 8 9 9 A [EOS] A A 0 2 2 2 A A A A A A A 5 A A 1 0 0 5 8 8 8 A A A 5 A A [EOS] [EOS] [EOS] [EOS] [EOS] A A 0 9 A [EOS] False\n",
      "h2_out: . . . 4 4 . [EOS] . . . . . . . . . True True [EOS] A . . . . . . . . . . . . . . . . . . . . . A A . . . . . . . 8 . . . . . . . . . . . A . . . . . A A . . . A . . [EOS] . A . . . . . [EOS] . . . . A [EOS] [EOS] [EOS] [EOS] [EOS] A . . . A [EOS] False\n",
      "h3_out: . . . . . . . . . . . . . . . . . . . . . . . . . . . . . . . . . . . . . . . . . . . . . . . . . . . . . . . . . . . . . . . . . . . . . . . . . . . . . . . . . . . . . . . . . . . . . . . . . . . . A False\n",
      "h_out: . . . . . . . . . . . . . . . . . . . . . . . . . . . . . . . . . . . . . . . . . . . . . . . . . . . . . . . . . . . . . . . . . . . . . . . . . . . . . . . . . . . . . . . . . . . . . . . . . . . . A False\n",
      "1th highest logit for h_out:\n",
      "0-0 8 0-2 8 0-0 5 0-0 3 0-5 7 0-6 2 0-0 4 0-0 7 0-0 6 0-2 8 0-3 9 0-4 5 0-1 7 0-1 9 0-7 1 0-8 9 0-1 4 0-3 5 0-2 2 0-5 4 0-6 0 0-2 2 0-2 6 0-9 5 0-4 2 0-3 3 0-3 8 0-3 3 0-8 6 0-9 1 0-4 1 0-6 8 0-4 8 0-4 4 0-4 1 0-6 3 0-5 5 0-5 4 0-5 8 0-6 1 0-6 9 0-6 4 0-7 1 0-9 7 0-8 5 0-9 5 A False\n"
     ]
    },
    {
     "name": "stderr",
     "output_type": "stream",
     "text": [
      "\r",
      "  0%|          | 1/2000 [00:02<1:10:15,  2.11s/it]"
     ]
    },
    {
     "name": "stdout",
     "output_type": "stream",
     "text": [
      "1th highest logit for h_out:\n",
      "0-4 0-7 3 0-6 6 0-6 5 0-5 8 9 0-6 1 0-8 3 0-8 5 0-4 9 0-3 5 0-3 8 3 1 0-5 4 0-9 6 0-9 0 0-1 9 0-9 1 0-6 0 0-8 9 0-0 5 0-7 5 0-4 2 0-4 9 0-5 1 0-3 0 0-9 7 0-4 9 0-7 3 0-8 3 0-3 4 0-9 0 0-0 9 0-7 7 0-4 5 0-3 4 0-0 0-9 0-2 7 0-2 0 0-0 9 0-5 5 0-1 9 0-6 4 0-1 2 0-2 7 0-1 9 0-2 6 [EOS]\n",
      "1th highest logit:\n",
      "h0_out: . [EOS] [EOS] 0 6 A 1 0-6 [EOS] [EOS] [EOS] [EOS] [EOS] 1 A A [EOS] [EOS] A 9 0 0 0-0 0-0 0-0 0-0 . A A A 9 1 1 1 1 A [EOS] 9 9 9 A A [EOS] [EOS] A [EOS] A A A A A 0 0 5 0-0 0-0 . 1 A [EOS] A A 1 6 6 6 6 0 [EOS] [EOS] [EOS] A 1 A A [EOS] [EOS] [EOS] [EOS] . . [EOS] [EOS] [EOS] [EOS] [EOS] [EOS] [EOS] [EOS] [EOS] [EOS] [EOS] [EOS] [EOS] [EOS] [EOS] [EOS] [EOS] [EOS] [EOS] [EOS] [EOS]\n",
      "h1_out: . A 2 2 8 7 6 6 8 8 9 A A A 8 8 9 9 1 1 A 8 3 3 4 5 5 5 5 5 2 2 2 A 9 A 3 3 5 5 A A A 1 1 1 A 4 4 A 2 2 9 A 2 2 2 4 A A 2 2 A 2 4 4 4 A A A A A A A A A A 9 8 8 A 0 A A 8 A A [EOS] [EOS] A A A [EOS] [EOS] [EOS] A A 2 A A [EOS] False\n",
      "h2_out: . . . A . . A A . . A . A . . . 8 . . . . . . . A A A . . . . . . . A A A A . . A . . . . . A [EOS] . . . . . . . . A . . . A A A . . . . [EOS] A A A . A A . . [EOS] . . . A . . . . A A [EOS] [EOS] A [EOS] [EOS] [EOS] [EOS] [EOS] A . . A A [EOS] False\n",
      "h3_out: . . . . . . . . . . . . . . . . . . . . . . . . . . . . . . . . . . . . . . . . . . . . . . . . . . . . . . . . . . . . . . . . . . . . . . . . . . . . . . . . . . . . . . . . . . . . . . . . . . . . A False\n",
      "h_out: . . . . . . . . . . . . . . . . . . . . . . . . . . . . . . . . . . . . . . . . . . . . . . . . . . . . . . . . . . . . . . . . . . . . . . . . . . . . . . . . . . . . . . . . . . . . . . . . . . . . A False\n",
      "1th highest logit for h_out:\n",
      "0-0 5 0-2 8 0-0 8 0-0 5 0-0 1 0-6 2 0-7 6 0-8 5 0-9 1 0-1 4 0-1 4 0-4 1 0-1 2 0-1 0 0-7 2 0-8 1 0-9 7 0-3 0 0-2 1 0-2 9 0-6 7 0-2 4 0-2 9 0-9 9 0-4 0 0-5 9 0-3 6 0-3 4 0-8 6 0-9 9 0-5 1 0-6 9 0-4 1 0-4 0 0-4 9 0-6 1 0-7 2 0-5 2 0-5 0 0-6 1 0-6 5 0-9 3 0-7 7 0-7 9 0-9 5 0-9 7 A False\n"
     ]
    },
    {
     "name": "stderr",
     "output_type": "stream",
     "text": [
      "\r",
      "  0%|          | 2/2000 [00:04<1:12:12,  2.17s/it]"
     ]
    },
    {
     "name": "stdout",
     "output_type": "stream",
     "text": [
      "1th highest logit for h_out:\n",
      "0-6 0-5 0-1 9 0-9 8 0-9 3 0-7 7 0-5 8 0-6 3 0-8 3 0-5 0 0-3 1 0-8 9 0-3 0 0-2 6 0-9 7 0-5 9 0-4 1 0-1 8 0-1 8 0-2 5 0-3 5 0-9 3 0-6 3 0-5 9 0-8 7 0-4 1 0-4 5 0-4 9 0-6 4 0-4 2 0-9 2 0-0 8 0-5 1 0-5 1 0-7 8 0-6 0-8 0-9 8 0-5 8 0-5 7 0-7 7 0-9 9 0-8 2 0-4 6 0-2 7 0-7 7 0-9 3 7 1 2 0-9 9 0-3 0-6 0-6 5 0-3 [EOS]\n",
      "1th highest logit:\n",
      "h0_out: . [EOS] 9 4 7 2 [EOS] [EOS] 2 2 4 4 6 8 6 6 0-0 0-0 1 A [EOS] [EOS] [EOS] [EOS] 1 1 2 A A A 1 A A A A 8 6 A A A A 6 6 A A 5 A . . [EOS] [EOS] [EOS] [EOS] 8 [EOS] [EOS] [EOS] 9 [EOS] A 1 1 A 1 6 [EOS] [EOS] [EOS] [EOS] [EOS] [EOS] 9 1 A A A [EOS] A 5 5 6 [EOS] [EOS] [EOS] [EOS] A A 6 [EOS] [EOS] [EOS] [EOS] [EOS] [EOS] [EOS] [EOS] [EOS] 6 8 [EOS] [EOS] False\n",
      "h1_out: . A A A 2 2 A A A A 0 0 A A A A 0 0 A A A 7 0 0 A 2 2 2 2 A 8 0 A A A 6 6 6 1 1 8 4 4 9 2 2 A 2 2 1 5 A 8 A 4 4 0 A 5 A 4 A A 9 A A A A A A A A A A 2 2 A 2 2 2 A 1 1 1 1 A A 4 4 A A A A [EOS] [EOS] A A A 4 [EOS] [EOS] 5\n",
      "h2_out: . A A A 0-5 0-5 . . A . . . . . . . . . . . . A 1 0 . . . . . . . . . . . . . . . . . A A . . . A A A . . . . A . . . . . . 6 6 . . A [EOS] [EOS] A A A . . A A . . . A . . A . . . . . . . . A . [EOS] [EOS] [EOS] [EOS] A . . . [EOS] [EOS] False\n",
      "h3_out: . . . . . . . . . . . . . . . . . . . . . . . . . . . . . . . . . . . . . . . . . . . . . . . . . . . . . . . . . . . . . . . . . . . . . . . . . . . . . . . . . . . . . . . . . . . . . . . . . . . . A True\n",
      "h_out: . . . . . . . . . . . . . . . . . . . . . . . . . . . . . . . . . . . . . . . . . . . . . . . . . . . . . . . . . . . . . . . . . . . . . . . . . . . . . . . . . . . . . . . . . . . . . . . . . . . . A True\n"
     ]
    },
    {
     "name": "stderr",
     "output_type": "stream",
     "text": [
      "\r",
      "  0%|          | 3/2000 [00:06<1:07:37,  2.03s/it]"
     ]
    },
    {
     "name": "stdout",
     "output_type": "stream",
     "text": [
      "1th highest logit for h_out:\n",
      "0-0 1 0-0 3 0-0 4 0-4 5 0-0 0 0-6 8 0-7 4 0-8 4 0-9 9 0-2 4 0-3 5 0-4 8 0-1 0-9 0-1 1 0-1 5 0-8 5 0-9 2 0-3 5 0-2 0 0-2 0 0-2 7 0-7 9 0-2 6 0-9 4 0-4 7 0-5 0 0-3 5 0-7 2 0-8 8 0-9 2 0-4 7 0-4 1 0-4 1 0-4 1 0-4 9 0-6 7 0-5 5 0-5 5 0-5 4 0-6 4 0-6 4 0-6 9 0-8 8 0-9 5 0-9 8 0-9 8 A True\n",
      "1th highest logit for h_out:\n",
      "0-8 0 0-2 9 0-1 1 0-4 8 0-6 3 0-9 9 0-6 4 0-4 7 0-5 2 0-9 0 0-4 True\n",
      "1th highest logit:\n",
      "h0_out: . [EOS] 9 4 4 7 9 2 6 6 1 1 6 9 A A 6 3 4 1 1 0-0 [EOS] 4 [EOS] [EOS] 5 0 0 3 [EOS] 9 9 . . 3 A 2 7 7 6 . . 6 A A 0 9 9 6 9 9 9 A 6 6 6 . A 0 0 0 6 0 A 0 9 [EOS] [EOS] [EOS] A A A A A A [EOS] [EOS] 6 0 6 [EOS] [EOS] [EOS] [EOS] 6 6 [EOS] [EOS] [EOS] [EOS] [EOS] [EOS] [EOS] [EOS] [EOS] [EOS] 6 [EOS] [EOS] [EOS] False\n",
      "h1_out: . 5 7 7 6 6 2 2 8 0 0 A A 2 8 0 0 0 A A A 0 0 0 0 7 7 7 7 A 8 8 8 2 2 4 4 4 9 9 1 6 6 9 3 3 A 3 3 9 4 4 1 A 4 4 8 A 7 7 0 0 A 2 A A A A A A A A 3 A 0 0 1 1 1 1 2 A A A A A A 2 2 A 2 2 [EOS] [EOS] [EOS] A A A A A [EOS] False\n",
      "h2_out: . A . . . . . . . . . . A . . . . . . . . . 8 A A . . . . . . . . . . . . . . . . . 6 . . . A 9 . . . . . . . . . . . . . . . . . . . . A A . . . A . . . . . . . A [EOS] [EOS] . . . . . A [EOS] [EOS] [EOS] [EOS] [EOS] A . [EOS] . [EOS] [EOS] False\n",
      "h3_out: . . . . . . . . . . . . . . . . . . . . . . . . . . . . . . . . . . . . . . . . . . . . . . . . . . . . . . . . . . . . . . . . . . . . . . . . . . . . . . . . . . . . . . . . . . . . . . . . . . . . A False\n",
      "h_out: . . . . . . . . . . . . . . . . . . . . . . . . . . . . . . . . . . . . . . . . . . . . . . . . . . . . . . . . . . . . . . . . . . . . . . . . . . . . . . . . . . . . . . . . . . . . . . . . . . . . A False\n",
      "1th highest logit for h_out:\n",
      "0-0 9 0-0 8 0-0 9 0-0 8 0-5 3 0-6 4 0-7 3 0-0 6 0-9 3 0-2 3 0-1 5 0-4 1 0-5 5 0-6 9 0-7 4 0-1 7 0-9 5 0-3 8 0-2 0 0-2 3 0-6 2 0-7 7 0-8 6 0-9 3 0-4 1 0-5 0 0-3 4 0-7 4 0-8 7 0-9 0 0-4 1 0-6 6 0-7 0 0-4 0 0-9 1 0-5 9 0-5 5 0-5 7 0-5 0 0-6 3 0-6 0 0-6 9 0-7 1 0-9 5 0-8 7 0-9 7 A False\n"
     ]
    },
    {
     "name": "stderr",
     "output_type": "stream",
     "text": [
      "\r",
      "  0%|          | 4/2000 [00:08<1:08:28,  2.06s/it]"
     ]
    },
    {
     "name": "stdout",
     "output_type": "stream",
     "text": [
      "1th highest logit for h_out:\n",
      "0-0 2 0-5 3 0-6 1 0-5 5 0-0 2 0-1 0-9 0-8 0-9 0-8 3 0-3 4 0-2 5 0-4 0-9 0-6 8 0-5 3 0-6 3 0-1 5 0-6 0-7 0-8 2 0-4 8 0-1 4 0-3 9 0-6 9 0-4 9 0-2 6 0-3 0-9 0-9 3 0-2 8 0-0 7 0-9 8 0-5 3 0-1 8 0-5 2 0-6 0-7 0-7 5 0-9 0 0-7 9 0-6 2 0-9 7 0-2 7 0-7 9 0-8 5 0-6 6 0-8 3 0-2 5 0-7 5 0-4 0-4 0-0 3 A False\n",
      "1th highest logit:\n",
      "h0_out: . [EOS] 6 6 6 A 9 0 A A [EOS] [EOS] A . 8 8 5 5 2 8 0-7 0-1 0-0 0-0 0-7 3 A 3 3 7 A 2 A A A A A A A A A 9 9 9 A A A . . . . 2 A [EOS] 0-0 0-0 . . 0 2 A A 6 [EOS] 2 2 2 2 [EOS] [EOS] A . [EOS] 3 A [EOS] [EOS] 3 [EOS] 1 . [EOS] [EOS] [EOS] A [EOS] [EOS] [EOS] [EOS] [EOS] [EOS] [EOS] [EOS] [EOS] [EOS] [EOS] [EOS] [EOS] [EOS] [EOS] [EOS] A\n",
      "h1_out: . 2 6 6 7 7 A A 2 2 A A A A 2 2 9 9 8 8 2 2 5 5 9 9 9 9 9 9 3 3 3 2 2 A 0 0 5 5 A 8 7 8 8 8 A 8 8 A 3 6 6 A 7 7 7 A 2 2 2 2 A A A A A A A A A A 6 A A A A A 6 6 5 9 9 9 A A A A A A A A A [EOS] [EOS] A A A 9 A [EOS] False\n",
      "h2_out: . . . . . . A . . . . . A . . . . . . . . . . . . . . . . . A A A . . . . . . . . A [EOS] A . . A . . A . . . . . . . . . . A A . A . . . . A A . . . . . . [EOS] . [EOS] . . . . . . . A A A A . [EOS] [EOS] [EOS] [EOS] A . . . A [EOS] False\n",
      "h3_out: . . . . . . . . . . . . . . . . . . . . . . . . . . . . . . . . . . . . . . . . . . . . . . . . . . . . . . . . . . . . . . . . . . . . . . . . . . . . . . . . . . . . . . . . . . . . . . . . . . . . A False\n",
      "h_out: . . . . . . . . . . . . . . . . . . . . . . . . . . . . . . . . . . . . . . . . . . . . . . . . . . . . . . . . . . . . . . . . . . . . . . . . . . . . . . . . . . . . . . . . . . . . . . . . . . . . A False\n",
      "1th highest logit for h_out:\n",
      "0-0 1 0-2 9 0-3 5 0-0 8 0-5 4 0-6 3 0-7 7 0-8 8 0-9 8 0-2 0 0-3 9 0-4 6 0-5 0 0-1 7 0-7 3 0-8 2 0-9 7 0-3 4 0-2 4 0-2 6 0-2 7 0-7 7 0-2 0 0-9 4 0-4 5 0-5 9 0-6 7 0-7 0 0-8 5 0-9 7 0-4 5 0-6 5 0-4 9 0-4 2 0-9 3 0-5 8 0-7 2 0-5 6 0-5 6 0-6 0 0-6 1 0-9 5 0-8 5 0-9 9 0-9 3 0-9 3 A False\n"
     ]
    },
    {
     "name": "stderr",
     "output_type": "stream",
     "text": [
      "\r",
      "  0%|          | 5/2000 [00:10<1:08:57,  2.07s/it]"
     ]
    },
    {
     "name": "stdout",
     "output_type": "stream",
     "text": [
      "1th highest logit for h_out:\n",
      "0-7 0 0-9 4 0-0 7 0-4 4 0-1 0-6 0-9 0-7 7 0-2 3 3 0-2 5 0-4 6 0-4 6 0-9 7 0-7 3 0-6 3 0-5 4 0-3 2 0-4 7 0-5 1 0-6 9 0-7 4 0-7 6 0-9 9 0-4 6 0-0 2 0-1 3 0-3 5 0-7 3 0-1 7 0-8 3 0-7 0 0-6 7 0-3 8 0-1 9 0-6 8 0-7 7 0-1 1 0-8 3 0-7 8 0-7 0 0-3 6 0-7 8 0-5 6 0-7 7 0-3 9 0-1 4 0-9 3 9 [EOS]\n",
      "1th highest logit:\n",
      "h0_out: 0-0 [EOS] [EOS] 2 0 [EOS] 9 4 8 8 [EOS] [EOS] [EOS] 9 0-0 0-0 0-0 0-0 9 9 A A 0-0 0-0 0-0 A . . . . 6 A A 1 1 [EOS] [EOS] [EOS] [EOS] [EOS] 9 . . 9 7 [EOS] . . . . 4 . A 0-2 0-0 0-0 . . A 5 3 . 4 8 . 2 2 A [EOS] [EOS] [EOS] [EOS] [EOS] A A [EOS] [EOS] [EOS] [EOS] [EOS] [EOS] [EOS] [EOS] [EOS] [EOS] [EOS] [EOS] [EOS] [EOS] [EOS] [EOS] [EOS] [EOS] [EOS] [EOS] [EOS] [EOS] [EOS] [EOS] [EOS] [EOS] 0\n",
      "h1_out: . 6 2 2 9 9 8 8 9 9 A A A 8 9 9 9 9 5 5 6 9 9 9 8 9 9 9 9 9 0 2 2 6 6 2 2 2 2 2 A 3 8 A A A A 8 8 9 2 2 A A 9 9 9 6 8 A A A A 1 A A A A A A A A A A 2 2 A A 8 8 9 8 8 A A A A A A A A A A A A A A A A A [EOS] False\n",
      "h2_out: . . A A . . . . 9 . 0-9 6 A . . . 0-9 0-9 . . A . 6 6 . . . . . . . . . . 0 . . . . . A A . A A . A . . . . . . A . . . . . . 0-3 True . . . . . . A A . . . . True 3 A . . . . . . . A . . A A A . A [EOS] [EOS] [EOS] A . . . [EOS] [EOS] False\n",
      "h3_out: . . . . . . . . . . . . . . . . . . . . . . . . . . . . . . . . . . . . . . . . . . . . . . . . . . . . . . . . . . . . . . . . . . . . . . . . . . . . . . . . . . . . . . . . . . . . . . . . . . . . A True\n",
      "h_out: . . . . . . . . . . . . . . . . . . . . . . . . . . . . . . . . . . . . . . . . . . . . . . . . . . . . . . . . . . . . . . . . . . . . . . . . . . . . . . . . . . . . . . . . . . . . . . . . . . . . A True\n",
      "1th highest logit for h_out:\n",
      "0-0 8 0-2 8 0-0 9 0-4 6 0-0 2 0-6 1 0-7 2 0-0 1 0-9 9 0-1 8 0-1 3 0-1 6 0-1 2 0-1 6 0-7 2 0-1 8 0-9 9 0-3 8 0-2 5 0-2 2 0-2 1 0-7 2 0-2 2 0-9 6 0-4 9 0-3 0-9 0-3 4 0-3 0-9 0-8 2 0-9 2 0-5 0 0-6 6 0-4 8 0-4 7 0-4 7 0-5 2 0-5 6 0-5 1 0-5 7 0-6 2 0-6 5 0-6 7 0-8 1 0-9 1 0-9 6 0-9 9 A True\n"
     ]
    },
    {
     "name": "stderr",
     "output_type": "stream",
     "text": [
      "\r",
      "  0%|          | 6/2000 [00:12<1:09:12,  2.08s/it]"
     ]
    },
    {
     "name": "stdout",
     "output_type": "stream",
     "text": [
      "1th highest logit for h_out:\n",
      "0-5 3 0-5 2 0-2 7 0-0 5 0-2 5 0-0 5 0-5 2 0-5 0-8 0-9 8 0-2 4 0-0 2 0-2 8 0-0 1 0-1 3 0-5 8 0-9 6 0-2 4 0-9 7 0-7 2 0-6 3 0-8 0 0-5 7 0-5 8 0-1 0-5 0-1 4 0-3 0-0 0-9 0-7 0-2 2 0-9 0 0-4 8 0-2 1 0-3 7 0-2 4 0-1 0-1 0-6 0-6 0-2 3 0-5 6 0-3 1 0-7 0 0-7 6 0-0 6 0-2 0-9 0-1 0-8 0-4 0 0-0 6 0-2 0-8 [EOS]\n",
      "1th highest logit:\n",
      "h0_out: 1-6 A A [EOS] 4 A 5 0 3 3 [EOS] [EOS] 2 6 8 4 1 1 A A 5 5 0-9 0-9 5 5 A [EOS] [EOS] [EOS] 2 6 6 A A A 4 A A A A . . 5 [EOS] [EOS] [EOS] 9 [EOS] [EOS] 1 [EOS] [EOS] 1 [EOS] [EOS] [EOS] 3 3 A 9 A 6 1 1 9 [EOS] [EOS] [EOS] [EOS] [EOS] [EOS] [EOS] [EOS] [EOS] [EOS] [EOS] [EOS] . . 0 [EOS] [EOS] [EOS] [EOS] [EOS] [EOS] [EOS] [EOS] [EOS] [EOS] [EOS] [EOS] [EOS] [EOS] [EOS] [EOS] 2 [EOS] [EOS] [EOS] False\n",
      "h1_out: . 4 9 9 2 2 3 3 9 9 6 6 A A 9 9 5 6 A A A 9 6 6 5 5 5 5 5 4 9 A A A 4 A 7 A A A A A 2 A 9 9 A 6 6 4 6 6 7 A 1 1 A 8 0 A 0 0 A 2 9 9 9 A A A A A A A A A A A A A A A A A 8 9 A 6 6 A A A [EOS] [EOS] [EOS] A A 2 A [EOS] [EOS] False\n",
      "h2_out: . A . . A A . . . . . . . . . . . . . . . . . . . . . . . . [EOS] [EOS] . . . A A A 9 9 . A . 0-7 0-7 0-7 A A A . A 6 A . . . . . . . . . . . A A [EOS] . A [EOS] . . A [EOS] . . [EOS] [EOS] . . . [EOS] [EOS] [EOS] . . A . . A [EOS] [EOS] [EOS] [EOS] [EOS] [EOS] . . . [EOS] [EOS] False\n",
      "h3_out: . . . . . . . . . . . . . . . . . . . . . . . . . . . . . . . . . . . . . . . . . . . . . . . . . . . . . . . . . . . . . . . . . . . . . . . . . . . . . . . . . . . . . . . . . . . . . . . . . . . . A True\n",
      "h_out: . . . . . . . . . . . . . . . . . . . . . . . . . . . . . . . . . . . . . . . . . . . . . . . . . . . . . . . . . . . . . . . . . . . . . . . . . . . . . . . . . . . . . . . . . . . . . . . . . . . . A True\n",
      "1th highest logit for h_out:\n",
      "0-0 9 0-2 7 0-0 6 0-0 3 0-0 0 0-6 9 0-7 0-9 0-8 6 0-9 3 0-2 6 0-1 8 0-4 7 0-1 7 0-1 6 0-7 6 0-8 1 0-9 9 0-2 3 0-2 2 0-5 9 0-2 8 0-2 9 0-2 2 0-9 9 0-4 9 0-5 9 0-6 1 0-7 6 0-8 0 0-9 1 0-4 1 0-6 0 0-4 1 0-4 9 0-4 0 0-6 2 0-7 4 0-5 9 0-5 0 0-6 1 0-6 4 0-9 2 0-7 8 0-7 9 0-8 5 0-9 5 A True\n"
     ]
    },
    {
     "name": "stderr",
     "output_type": "stream",
     "text": [
      "\r",
      "  0%|          | 7/2000 [00:14<1:09:20,  2.09s/it]"
     ]
    },
    {
     "name": "stdout",
     "output_type": "stream",
     "text": [
      "1th highest logit for h_out:\n",
      "0-7 9 0-7 0 0-6 9 0-9 0 0-0 0 0-8 0-9 0-3 7 0-7 6 0-5 7 0-2 6 0-9 5 0-9 2 0-0 3 0-2 0 0-3 9 0-2 6 0-2 8 0-6 8 0-0 8 0-3 1 0-8 6 0-5 9 0-5 4 0-6 2 0-2 4 0-9 9 0-4 2 0-6 0-6 0-4 5 0-1 8 0-9 2 0-9 0-9 0-0 9 0-8 1 0-0 0-4 0-4 2 0-6 1 0-3 0 0-6 2 0-0 0-8 0-0 0-6 0-1 0-3 0-0 0-0 0-9 3 0-4 6 0-1 0-9 7 [EOS]\n",
      "1th highest logit:\n",
      "h0_out: . [EOS] [EOS] [EOS] [EOS] [EOS] [EOS] 1 6 6 [EOS] [EOS] 8 1 2 2 True True 2 9 A 5 0-0 0-0 0-0 0-0 5 . . . . 8 8 4 . A A A A A A . . 6 6 0 . 9 9 . A . . A 9 0 . 1 1 6 3 9 [EOS] [EOS] [EOS] 1 4 [EOS] [EOS] [EOS] A 6 [EOS] [EOS] 5 [EOS] [EOS] 4 A 3 3 8 [EOS] [EOS] A A . . . [EOS] [EOS] [EOS] [EOS] [EOS] [EOS] [EOS] 8 8 8 [EOS] [EOS] A\n",
      "h1_out: . 0 6 6 8 8 2 2 0 0 4 4 A A 0 2 6 6 A A A 2 4 4 4 0 2 2 2 2 5 5 5 2 6 4 4 A 3 3 A 0 1 7 8 8 A 4 4 6 8 8 1 3 6 6 6 2 A A 2 2 A 0 A A A A A A A A 4 4 0 0 A A 2 2 5 A A A 8 A A 4 A A 5 A [EOS] [EOS] [EOS] A A A A A [EOS] False\n",
      "h2_out: . . 6 6 . . . . . . . . . . . . . . A A . . . . . A . . . . . . . . . 0-8 0-8 0-8 A A . 0-5 0-5 A . . A . . 6 A . . . . . . . . . . . [EOS] . . . . A A A A . . . . . A [EOS] . . . . . . . . A . . A . [EOS] [EOS] [EOS] [EOS] A . . . [EOS] [EOS] False\n",
      "h3_out: . . . . . . . . . . . . . . . . . . . . . . . . . . . . . . . . . . . . . . . . . . . . . . . . . . . . . . . . . . . . . . . . . . . . . . . . . . . . . . . . . . . . . . . . . . . . . . . . . . . . A True\n",
      "h_out: . . . . . . . . . . . . . . . . . . . . . . . . . . . . . . . . . . . . . . . . . . . . . . . . . . . . . . . . . . . . . . . . . . . . . . . . . . . . . . . . . . . . . . . . . . . . . . . . . . . . A True\n",
      "1th highest logit for h_out:\n",
      "0-0 3 0-2 7 0-0 4 0-4 6 0-0 0-8 0-6 7 0-0 5 0-0 8 0-9 7 0-2 4 0-1 8 0-1 1 0-1 9 0-1 6 0-7 8 0-1 2 0-9 1 0-3 2 0-2 5 0-2 3 0-6 0 0-2 0 0-8 9 0-9 5 0-4 1 0-3 6 0-3 7 0-3 0 0-8 4 0-9 1 0-4 2 0-4 5 0-4 7 0-4 6 0-9 6 0-6 7 0-5 1 0-5 6 0-9 2 0-7 2 0-6 3 0-6 9 0-7 7 0-9 3 0-8 0 0-9 2 A True\n"
     ]
    },
    {
     "name": "stderr",
     "output_type": "stream",
     "text": [
      "\r",
      "  0%|          | 8/2000 [00:16<1:09:29,  2.09s/it]"
     ]
    },
    {
     "name": "stdout",
     "output_type": "stream",
     "text": [
      "1th highest logit for h_out:\n",
      "0-1 4 0-2 7 0-4 2 0-4 1 0-8 0-7 0-9 0-8 9 0-7 5 0-8 4 1 0-2 2 0-6 8 0-6 2 0-2 8 0-3 4 0-6 2 0-1 2 0-7 3 0-9 4 0-8 6 0-2 6 0-0 0 0-9 9 0-2 1 0-6 5 0-0 3 0-9 2 0-7 6 0-6 1 0-0 5 0-6 3 0-7 4 0-3 8 0-4 5 0-0 0-9 0-5 6 0-6 3 0-2 0-9 0-7 4 0-0 0-9 0-6 6 0-7 8 0-8 0 0-1 2 0-5 0-5 0 7 0-9 6 7 3 [EOS]\n",
      "1th highest logit:\n",
      "h0_out: 0-0 [EOS] 4 6 4 9 9 9 A A A A 3 2 [EOS] [EOS] A A 0 0 [EOS] [EOS] 0-8 0-2 0-2 1 6 A A A 8 0 0 6 6 9 [EOS] [EOS] [EOS] [EOS] [EOS] [EOS] [EOS] [EOS] 3 [EOS] 3 . [EOS] [EOS] . 3 3 8 0-2 0-2 . 6 6 [EOS] . 7 7 6 6 6 3 [EOS] [EOS] [EOS] [EOS] 5 [EOS] [EOS] [EOS] [EOS] [EOS] [EOS] . . 0 [EOS] [EOS] [EOS] [EOS] 6 A [EOS] [EOS] [EOS] [EOS] [EOS] [EOS] [EOS] [EOS] [EOS] [EOS] [EOS] [EOS] [EOS] [EOS] A\n",
      "h1_out: . 8 5 5 6 6 2 2 1 1 9 9 A A 1 1 3 3 A A 7 1 9 9 9 4 4 4 4 4 5 5 A 2 2 9 9 8 6 6 6 1 1 A A A A 6 6 A 8 8 A A 8 7 A A 7 A 2 A A 9 6 6 6 A A A A A A A 5 5 A 2 5 5 0 9 9 9 A A A 2 2 A 0 0 A [EOS] [EOS] A A A A A [EOS] False\n",
      "h2_out: . . . 5 9 . A A . . . . A A . . . . . . A . 9 9 . . . . . . . . . . . . . . . . 6 . . . . . A A A . 0-8 0-8 . . A [EOS] [EOS] . 0-7 0 . . A A . . . A A A 5 A A . . . . . . . . . . . . . A . . A . [EOS] [EOS] [EOS] [EOS] A . . . A [EOS] False\n",
      "h3_out: . . . . . . . . . . . . . . . . . . . . . . . . . . . . . . . . . . . . . . . . . . . . . . . . . . . . . . . . . . . . . . . . . . . . . . . . . . . . . . . . . . . . . . . . . . . . . . . . . . . . A True\n",
      "h_out: . . . . . . . . . . . . . . . . . . . . . . . . . . . . . . . . . . . . . . . . . . . . . . . . . . . . . . . . . . . . . . . . . . . . . . . . . . . . . . . . . . . . . . . . . . . . . . . . . . . . A True\n",
      "1th highest logit for h_out:\n",
      "0-0 6 0-0 2 0-3 3 0-4 3 0-5 9 0-6 5 0-7 1 0-8 1 0-9 5 0-2 6 0-3 5 0-4 7 0-1 2 0-6 9 0-7 0-8 0-8 7 0-1 6 0-3 2 0-2 6 0-5 4 0-6 9 0-2 5 0-2 3 0-2 4 0-4 3 0-5 9 0-6 7 0-3 7 0-8 3 0-3 5 0-4 5 0-6 3 0-7 9 0-4 7 0-4 2 0-5 9 0-5 8 0-5 5 0-9 2 0-6 9 0-6 0 0-6 5 0-7 6 0-7 5 0-8 9 0-9 4 A True\n"
     ]
    },
    {
     "name": "stderr",
     "output_type": "stream",
     "text": [
      "\r",
      "  0%|          | 9/2000 [00:18<1:10:06,  2.11s/it]"
     ]
    },
    {
     "name": "stdout",
     "output_type": "stream",
     "text": [
      "1th highest logit for h_out:\n",
      "0-2 9 0-8 6 0-0 8 0-5 0-9 0-5 0 0-1 8 0-2 7 0-4 4 0-6 0-7 0-8 0 0-9 0-9 0-0 0-2 0 0-8 9 0-3 2 0-8 0-2 0-8 0-7 5 0-1 0-9 0-2 7 0-1 7 0-2 5 0-8 7 0-1 6 0-5 0 0-6 2 0-7 0 0-5 3 0-1 5 0-5 7 0-1 0-1 0-2 4 0-4 8 0-0 5 0-2 9 0-1 1 0-5 8 0-0 9 0-5 4 0-5 8 0-4 8 0-8 0 0-6 0-9 0-4 0-9 0-2 7 0-2 5 0-6 6 A False\n",
      "1th highest logit:\n",
      "h0_out: 0-1 [EOS] [EOS] [EOS] [EOS] A 7 0-0 A A [EOS] [EOS] 9 8 3 3 0 1 3 9 0-7 0-0 0-2 0-2 [EOS] A 1 . . . . A A 6 6 A A A 8 A A . . A A [EOS] . . . . . . . [EOS] [EOS] [EOS] [EOS] A A 6 A A A 5 3 A 4 [EOS] [EOS] [EOS] [EOS] 4 [EOS] [EOS] A [EOS] [EOS] [EOS] . 4 6 [EOS] [EOS] A A [EOS] [EOS] [EOS] [EOS] [EOS] [EOS] [EOS] [EOS] [EOS] [EOS] [EOS] [EOS] 2 2 [EOS] [EOS] False\n",
      "h1_out: . 4 A 9 2 A 9 9 4 4 [EOS] [EOS] A 9 4 4 5 5 0 A 4 4 5 5 A 4 4 4 4 4 7 7 A 8 8 9 9 9 5 A A 6 6 1 2 2 A 3 3 2 A 4 7 A 0 2 0 8 A A A A A 7 A A A A A A A A A A 8 8 A 7 A A 9 A A A A A A 9 A A 9 A [EOS] [EOS] [EOS] A A A A A [EOS] False\n",
      "h2_out: . . . . A A . . . . . . A . . . . . . . . . 5 . A . True . . . . . . . . . . . A . . [EOS] . . . . A . . . [EOS] . . A . . . . A A . . A 0-8 . . . A A A . . A . . . . . . . . . . . . . . . . A . A [EOS] [EOS] [EOS] A . 8 A A [EOS] False\n",
      "h3_out: . . . . . . . . . . . . . . . . . . . . . . . . . . . . . . . . . . . . . . . . . . . . . . . . . . . . . . . . . . . . . . . . . . . . . . . . . . . . . . . . . . . . . . . . . . . . . . . . . . . . A True\n",
      "h_out: . . . . . . . . . . . . . . . . . . . . . . . . . . . . . . . . . . . . . . . . . . . . . . . . . . . . . . . . . . . . . . . . . . . . . . . . . . . . . . . . . . . . . . . . . . . . . . . . . . . . A True\n",
      "1th highest logit for h_out:\n",
      "0-1 5 0-2 6 0-0 9 0-0 8 0-5 9 0-0 7 0-0 9 0-8 5 0-9 1 0-2 3 0-1 8 0-4 7 0-1 2 0-6 8 0-7 4 0-8 9 0-9 2 0-2 9 0-2 8 0-2 8 0-6 0-8 0-7 5 0-2 2 0-9 7 0-4 5 0-5 3 0-3 2 0-7 5 0-8 5 0-9 8 0-4 7 0-6 9 0-4 5 0-8 4 0-4 7 0-6 2 0-5 4 0-5 9 0-5 7 0-7 6 0-6 9 0-6 3 0-7 1 0-9 9 0-9 4 0-9 4 A True\n"
     ]
    },
    {
     "name": "stderr",
     "output_type": "stream",
     "text": [
      "\r",
      "  0%|          | 10/2000 [00:20<1:10:14,  2.12s/it]"
     ]
    },
    {
     "name": "stdout",
     "output_type": "stream",
     "text": [
      "1th highest logit for h_out:\n",
      "0-0 5 0-2 4 0-3 3 0-7 3 0-3 8 0-5 0 0-8 1 0-0 5 0-0 8 0-7 6 0-4 4 0-4 6 0-6 0-6 0-1 8 0-5 8 0-9 7 0-6 7 0-8 6 0-7 0-9 0-9 1 0-4 1 0-9 8 0-1 8 0-2 0 0-7 4 0-4 6 0-8 8 0-9 0-9 9 0-3 2 0-7 0-5 0-4 0-0 0-7 0-0 0-6 0 7 0-9 6 0-6 7 0-9 0 0-2 0-8 0-7 6 0-0 0-7 0-8 0-8 5 0-5 7 0-7 9 0-9 3 0-8 2 7 0-9 4 7 0 9 0 0-7 9 0 0-4 [EOS]\n",
      "1th highest logit:\n",
      "h0_out: . [EOS] A 2 2 8 8 5 3 3 3 3 . . . . 8 8 A 9 0-2 0-2 0-0 0-0 5 5 1 3 3 3 A . A 8 8 [EOS] 0 A A A A . 7 6 6 6 . 6 0 . . 6 [EOS] 6 0-0 0-0 . . 5 9 . . 3 5 6 6 5 [EOS] [EOS] [EOS] 3 . . . . [EOS] [EOS] [EOS] 6 . 3 [EOS] [EOS] [EOS] [EOS] [EOS] [EOS] [EOS] [EOS] [EOS] [EOS] [EOS] [EOS] [EOS] [EOS] [EOS] [EOS] 3 [EOS] [EOS] [EOS] A\n",
      "h1_out: . 5 A A 7 7 3 3 9 9 6 6 A 3 9 9 6 6 6 6 9 9 3 6 2 2 2 2 2 A 5 5 A A 7 4 4 4 9 9 A A 2 7 7 7 A 4 4 A 6 7 4 4 8 8 8 A 8 8 5 5 A A A A A A A A A A A A 7 A 2 2 7 9 0 A A A 0 8 A 8 8 A A A 0 A A A A A A A [EOS] False\n",
      "h2_out: . . . . . . . . . . A A . . . . A A A A . . A A . . . . . . [EOS] . . . . A A A . . . . . . . . A True True . . . . . . . . [EOS] . . . . 0 . . . . [EOS] A A . . . A . . . . 0 0 . . . . . . A [EOS] [EOS] A . . . [EOS] [EOS] . . . . [EOS] [EOS] False\n",
      "h3_out: . . . . . . . . . . . . . . . . . . . . . . . . . . . . . . . . . . . . . . . . . . . . . . . . . . . . . . . . . . . . . . . . . . . . . . . . . . . . . . . . . . . . . . . . . . . . . . . . . . . . A True\n",
      "h_out: . . . . . . . . . . . . . . . . . . . . . . . . . . . . . . . . . . . . . . . . . . . . . . . . . . . . . . . . . . . . . . . . . . . . . . . . . . . . . . . . . . . . . . . . . . . . . . . . . . . . A True\n",
      "1th highest logit for h_out:\n",
      "0-0 6 0-0 1 0-0 8 0-0 7 0-0 4 0-6 6 0-0 8 0-8 7 0-9 8 0-1 4 0-1 9 0-4 6 0-1 8 0-1 5 0-7 6 0-8 6 0-9 7 0-3 9 0-2 0-5 0-5 1 0-2 0 0-2 0 0-8 8 0-9 2 0-4 9 0-3 6 0-6 2 0-3 5 0-3 3 0-9 9 0-5 7 0-6 9 0-4 0 0-4 9 0-4 1 0-6 6 0-5 3 0-5 1 0-9 5 0-6 2 0-6 6 0-6 5 0-8 1 0-9 4 0-9 1 0-9 1 A True\n"
     ]
    },
    {
     "name": "stderr",
     "output_type": "stream",
     "text": [
      "\r",
      "  1%|          | 11/2000 [00:23<1:09:39,  2.10s/it]"
     ]
    },
    {
     "name": "stdout",
     "output_type": "stream",
     "text": [
      "1th highest logit for h_out:\n",
      "0-8 8 0-4 7 0-7 2 0-8 0-9 0-8 0-9 0-5 0 0-5 8 0-1 8 0-2 1 0-7 0-1 4 0-0 0-1 6 0-4 4 0-7 0-9 0-6 2 0-5 5 0-7 3 0-9 0 0-9 4 0-6 4 0-6 4 0-5 2 0-8 0 0-2 0 0-2 5 0-2 9 0-8 8 0-0 9 0-0 0-2 0-3 0-6 0-3 6 0-7 2 0-4 7 0-0 1 0-4 5 0-2 7 0-7 8 0-1 4 0-6 9 0-1 0 0-3 True\n",
      "1th highest logit:\n",
      "h0_out: . [EOS] [EOS] [EOS] [EOS] 6 A 0 1 1 [EOS] [EOS] A 7 6 6 [EOS] [EOS] 3 9 0-0 0-0 . 0-2 A A 9 A [EOS] [EOS] A 6 6 4 4 A [EOS] A 5 8 A . . 3 A [EOS] [EOS] [EOS] [EOS] . 1 2 6 [EOS] [EOS] [EOS] [EOS] . . 9 A A [EOS] [EOS] [EOS] 1 4 6 [EOS] [EOS] [EOS] [EOS] 5 1 7 [EOS] [EOS] [EOS] . . 5 [EOS] [EOS] [EOS] [EOS] [EOS] [EOS] A [EOS] [EOS] [EOS] [EOS] [EOS] [EOS] [EOS] [EOS] [EOS] 5 0 [EOS] [EOS] A\n",
      "h1_out: . A A 4 0 0 2 2 8 8 2 2 A 2 8 8 2 2 2 2 A 8 2 2 A A 5 7 7 A 1 1 1 A 6 6 6 6 5 5 7 6 6 3 3 3 A 1 1 0 7 7 6 A 5 5 5 A 3 A 6 6 A 9 9 9 9 A A A A A A A 5 5 A 8 4 4 A 9 9 9 A A A A A A A A A [EOS] [EOS] A A 9 A A [EOS] False\n",
      "h2_out: . A . . . . . . . . . . A . . . . . . . . 8 . . A 0-2 0-2 0-2 True 6 . . . A 6 . . . . . . A [EOS] A A A . . . . . . . . . 5 . [EOS] [EOS] A . . . 1 . . . A A A . . . . True . . . . . A . . . . . A . [EOS] A [EOS] [EOS] [EOS] [EOS] [EOS] A . . . A [EOS] False\n",
      "h3_out: . . . . . . . . . . . . . . . . . . . . . . . . . . . . . . . . . . . . . . . . . . . . . . . . . . . . . . . . . . . . . . . . . . . . . . . . . . . . . . . . . . . . . . . . . . . . . . . . . . . . A True\n",
      "h_out: . . . . . . . . . . . . . . . . . . . . . . . . . . . . . . . . . . . . . . . . . . . . . . . . . . . . . . . . . . . . . . . . . . . . . . . . . . . . . . . . . . . . . . . . . . . . . . . . . . . . A True\n",
      "1th highest logit for h_out:\n",
      "0-0 1 0-2 8 0-3 2 0-4 6 0-5 6 0-6 1 0-7 6 0-8 6 0-9 3 0-2 1 0-3 7 0-4 6 0-5 4 0-6 0 0-7 7 0-8 3 0-1 4 0-3 2 0-2 5 0-2 6 0-6 9 0-7 9 0-2 0-9 0-9 3 0-4 0 0-5 8 0-6 5 0-7 1 0-3 8 0-9 5 0-4 4 0-6 1 0-4 9 0-4 2 0-9 1 0-6 1 0-5 1 0-5 4 0-5 1 0-6 4 0-6 1 0-9 2 0-7 9 0-9 4 0-9 1 0-9 1 A True\n"
     ]
    },
    {
     "name": "stderr",
     "output_type": "stream",
     "text": [
      "\r",
      "  1%|          | 12/2000 [00:25<1:10:14,  2.12s/it]"
     ]
    },
    {
     "name": "stdout",
     "output_type": "stream",
     "text": [
      "1th highest logit for h_out:\n",
      "0-5 2 7 2 0-0 1 0-7 2 0-9 0-9 0-2 0-5 0-9 0-8 4 0-4 1 0 0-5 3 0-1 1 0-4 9 0-1 4 0-2 4 0-3 3 0-5 6 0-9 5 0-0 2 0-4 0 0-1 0 0-1 0-4 0-9 0-1 6 0-2 9 0-8 4 0-0 0 0-9 3 0-4 0-9 0-6 4 0-8 0 0-4 0-8 0-6 9 0-9 1 0-1 0-6 0-2 8 0-5 6 0-8 6 0-8 5 9 0-4 3 0-7 1 0-1 0-2 3 0-9 9 0-5 1 0-9 3 7 5 0-9 6 3 0-7 3 9 3 7 0-8 0-2 0-2 2 3 0-7 6 0-6 1 0-2 0-2 7 0-7 0-4 0-7\n"
     ]
    }
   ],
   "source": [
    "results_list = []\n",
    "for rank in [1, 2, 3]:\n",
    "    results_df = []\n",
    "    for idx in tqdm(range(len(test_df))):\n",
    "        # Without skip\n",
    "        result = model.print_logit_progression(test_set[idx], rank=rank, input_length=11)\n",
    "        \n",
    "        # With skip\n",
    "        result_skip = model.print_logit_progression(test_set[idx], rank=rank, layer_number=4, skip_idx=3, input_length=11)\n",
    "        \n",
    "        # With skip_random\n",
    "        result_skip_random = model.print_logit_progression(test_set[idx], rank=rank, layer_number=4, skip_idx=3, input_length=11, skip_random=True)\n",
    "        \n",
    "        # Combine results\n",
    "        for k, v in result_skip.items():\n",
    "            result[k + \"_skip\"] = v\n",
    "        \n",
    "        for k, v in result_skip_random.items():\n",
    "            result[k + \"_skip_random\"] = v\n",
    "        \n",
    "        results_df.append(result)\n",
    "    \n",
    "    results_list.append({\n",
    "        'rank': rank,\n",
    "        'results': results_df\n",
    "    })"
   ]
  }
 ],
 "metadata": {
  "interpreter": {
   "hash": "d82929f0b2a0bc732f0b4a7de66959930da3979fa54e053e3cc98d8b0f7a869f"
  },
  "kernelspec": {
   "display_name": "Python 3 (ipykernel)",
   "language": "python",
   "name": "python3"
  },
  "language_info": {
   "codemirror_mode": {
    "name": "ipython",
    "version": 3
   },
   "file_extension": ".py",
   "mimetype": "text/x-python",
   "name": "python",
   "nbconvert_exporter": "python",
   "pygments_lexer": "ipython3",
   "version": "3.11.5"
  }
 },
 "nbformat": 4,
 "nbformat_minor": 2
}
