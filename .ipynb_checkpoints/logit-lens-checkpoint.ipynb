{
 "cells": [
  {
   "cell_type": "code",
   "execution_count": 1,
   "metadata": {},
   "outputs": [
    {
     "name": "stderr",
     "output_type": "stream",
     "text": [
      "/home/loki/anaconda3/lib/python3.11/site-packages/pandas/core/arrays/masked.py:60: UserWarning: Pandas requires version '1.3.6' or newer of 'bottleneck' (version '1.3.5' currently installed).\n",
      "  from pandas.core import (\n"
     ]
    }
   ],
   "source": [
    "from src.match3 import *\n",
    "from src.utils import InputEmbedCausalTransformer\n",
    "from tqdm import tqdm\n",
    "from transformers import AutoModelForCausalLM, AutoTokenizer, AutoConfig\n",
    "import Levenshtein\n",
    "import json\n",
    "import numpy as np\n",
    "import os \n",
    "import pandas as pd\n",
    "import random\n",
    "import torch\n",
    "import torch.nn.functional as F"
   ]
  },
  {
   "cell_type": "code",
   "execution_count": 2,
   "metadata": {},
   "outputs": [],
   "source": [
    "MODEL_PATH = \"/home/loki/projects/filler_tokens/output_dir/2024-08-14-22-matchdata-checkpoint-final/model_weights.pt\"\n",
    "CONFIG_FILE = \"/home/loki/projects/filler_tokens/misc/llama_d384l4h6.json\""
   ]
  },
  {
   "cell_type": "code",
   "execution_count": 3,
   "metadata": {},
   "outputs": [],
   "source": [
    "# train_df = pd.read_csv('data/matchdata_trainset_2024-08-13.csv', header=None, names=[\"text\"])\n",
    "# train_set = Match3VectorDataset(train_df, 3, 10, 10, 'P')"
   ]
  },
  {
   "cell_type": "code",
   "execution_count": 4,
   "metadata": {},
   "outputs": [
    {
     "name": "stdout",
     "output_type": "stream",
     "text": [
      "validate encodings\n",
      "raw input 0  433 450 421 129 107 924 489 711 540 034 P 0- 3 0- 4 3- 2 4- 0 5- 5 0- 8 7- 1 0- 7 9- 4 1- 8 3- 5 1- 7 1- 3 6- 8 1- 1 8- 9 9- 4 3- 5 4- 2 5- 5 6- 8 2- 2 2- 6 9- 5 3- 2 5- 0 6- 5 3- 0 8- 9 9- 5 4- 2 6- 8 7- 1 8- 4 4- 3 6- 3 5- 6 8- 4 9- 8 7- 9 8- 9 6- 1 7- 2 7- 7 9- 7 9- 5 A False\n",
      "encoded sample 0 {'input_ids': tensor([[0., 0., 0.,  ..., 0., 0., 0.],\n",
      "        [0., 0., 0.,  ..., 0., 0., 0.],\n",
      "        [0., 0., 0.,  ..., 0., 0., 0.],\n",
      "        ...,\n",
      "        [1., 0., 0.,  ..., 0., 0., 0.],\n",
      "        [1., 0., 0.,  ..., 0., 0., 0.],\n",
      "        [1., 0., 0.,  ..., 0., 0., 0.]], dtype=torch.float16), 'labels': tensor([-100, -100, -100, -100, -100, -100, -100, -100, -100, -100,    5,   28,\n",
      "           5,   29,    8,   27,    9,   25,   10,   30,    5,   33,   12,   26,\n",
      "           5,   32,   14,   29,    6,   33,    8,   30,    6,   32,    6,   28,\n",
      "          11,   33,    6,   26,   13,   34,   14,   29,    8,   30,    9,   27,\n",
      "          10,   30,   11,   33,    7,   27,    7,   31,   14,   30,    8,   27,\n",
      "          10,   25,   11,   30,    8,   25,   13,   34,   14,   30,    9,   27,\n",
      "          11,   33,   12,   26,   13,   29,    9,   28,   11,   28,   10,   31,\n",
      "          13,   29,   14,   33,   12,   34,   13,   34,   11,   26,   12,   27,\n",
      "          12,   32,   14,   32,   14,   30,    4,    2,    0, -100, -100, -100,\n",
      "        -100, -100, -100, -100, -100, -100])}\n",
      "65\n"
     ]
    }
   ],
   "source": [
    "test_df = pd.read_csv('data/matchdata_testset_2024-08-13.csv', header=None, names=[\"text\"])\n",
    "test_set = Match3VectorDataset(test_df, 3, 10, 10, 'P')\n",
    "print(test_set.input_dim)"
   ]
  },
  {
   "cell_type": "code",
   "execution_count": 5,
   "metadata": {},
   "outputs": [],
   "source": [
    "def string_to_input_tensors(input_string):\n",
    "    return {\"input_ids\":test_set.tensorize_inputs_worker({\"text\":pd.Series([input_string], index=['text'], name='1999')}).squeeze()}"
   ]
  },
  {
   "cell_type": "code",
   "execution_count": 6,
   "metadata": {},
   "outputs": [
    {
     "data": {
      "text/plain": [
       "{'input_ids': tensor([[0., 0., 0.,  ..., 0., 0., 0.],\n",
       "         [0., 0., 0.,  ..., 0., 0., 0.],\n",
       "         [0., 0., 0.,  ..., 0., 0., 0.],\n",
       "         ...,\n",
       "         [1., 0., 0.,  ..., 0., 0., 0.],\n",
       "         [1., 0., 0.,  ..., 0., 0., 0.],\n",
       "         [1., 0., 0.,  ..., 0., 0., 0.]], dtype=torch.float16)}"
      ]
     },
     "execution_count": 6,
     "metadata": {},
     "output_type": "execute_result"
    }
   ],
   "source": [
    "string_to_input_tensors(\"1 P A\")"
   ]
  },
  {
   "cell_type": "code",
   "execution_count": 7,
   "metadata": {},
   "outputs": [],
   "source": [
    "def string_to_label_tensors(input_string):\n",
    "    return {\"labels\":test_set.tensorize_labels_worker({\"text\":pd.Series([input_string], index=['text'], name='1999')})}"
   ]
  },
  {
   "cell_type": "code",
   "execution_count": 8,
   "metadata": {},
   "outputs": [
    {
     "data": {
      "text/plain": [
       "{'input_ids': tensor([[0., 0., 0.,  ..., 0., 0., 0.],\n",
       "         [0., 0., 0.,  ..., 0., 0., 0.],\n",
       "         [0., 0., 0.,  ..., 0., 0., 0.],\n",
       "         ...,\n",
       "         [1., 0., 0.,  ..., 0., 0., 0.],\n",
       "         [1., 0., 0.,  ..., 0., 0., 0.],\n",
       "         [1., 0., 0.,  ..., 0., 0., 0.]], dtype=torch.float16)}"
      ]
     },
     "execution_count": 8,
     "metadata": {},
     "output_type": "execute_result"
    }
   ],
   "source": [
    "string_to_input_tensors(\"100 P A\")"
   ]
  },
  {
   "cell_type": "code",
   "execution_count": 9,
   "metadata": {},
   "outputs": [],
   "source": [
    "class BlockOutputWrapper(torch.nn.Module):\n",
    "    def __init__(self, block, unembed_matrix, norm):\n",
    "        super().__init__()\n",
    "        self.block = block\n",
    "        self.unembed_matrix = unembed_matrix\n",
    "        self.norm = norm\n",
    "        self.block_output_unembedded = None\n",
    "\n",
    "    def forward(self, *args, **kwargs):\n",
    "        output = self.block(*args, **kwargs)\n",
    "        if isinstance(output, tuple):\n",
    "            self.block_output_unembedded = self.unembed_matrix(self.norm(output[0]))\n",
    "            return output\n",
    "        else:\n",
    "            self.block_output_unembedded = self.unembed_matrix(self.norm(output))\n",
    "            return output\n",
    "\n",
    "    def reset_block_output(self):\n",
    "        self.block_output_unembedded = None\n",
    "\n",
    "class LlamaHelper:\n",
    "    def __init__(self, config_file, model_path, test_set):\n",
    "        self.device = \"cuda\" if torch.cuda.is_available() else \"cpu\"\n",
    "        config = AutoConfig.from_pretrained(config_file)\n",
    "        model = InputEmbedCausalTransformer(AutoModelForCausalLM.from_config(config), test_set.input_dim)\n",
    "        state_dict = torch.load(model_path)\n",
    "        model.load_state_dict(state_dict, strict=False)\n",
    "        model = model.to(self.device)\n",
    "        self.model = model\n",
    "        self.word_index_map = test_set.word_index_map\n",
    "        self.data_len = test_set.data_len\n",
    "        self.mod = test_set.mod\n",
    "        self.input_dim = test_set.input_dim\n",
    "        \n",
    "        for i, layer in enumerate(self.model.base_model.model.layers):\n",
    "            self.model.base_model.model.layers[i] = BlockOutputWrapper(layer, self.model.base_model.lm_head, self.model.base_model.model.norm)\n",
    "\n",
    "    def decode_tensors(self, sequence):\n",
    "        decoded_sequence = []\n",
    "        marker_found = False\n",
    "\n",
    "        for token in sequence:\n",
    "            token = token.item()\n",
    "            if token == -100:\n",
    "                if not marker_found:\n",
    "                    decoded_sequence.append(\"[MASK]\")\n",
    "                continue\n",
    "            elif token == 0:\n",
    "                decoded_sequence.append(\"[EOS]\")\n",
    "                break  # Stop decoding after EOS\n",
    "            elif token < len(self.word_index_map):\n",
    "                # Regular word\n",
    "                word = list(self.word_index_map.keys())[list(self.word_index_map.values()).index(token)]\n",
    "                decoded_sequence.append(word)\n",
    "                if word in [\"A\", \"P\"]:\n",
    "                    marker_found = True\n",
    "            else:\n",
    "                # Handle digit labels\n",
    "                offset = len(self.word_index_map)\n",
    "                if token < offset + self.data_len * 2:\n",
    "                    # Tuple index encoding\n",
    "                    idx = (token - offset) % self.data_len\n",
    "                    tuple_pos = (token - offset) // self.data_len\n",
    "                    decoded_sequence.append(f\"{tuple_pos}-{idx}\")\n",
    "                else:\n",
    "                    # Single digit or digit in tuple\n",
    "                    char_pos = (token - offset - self.data_len * 2) // self.mod\n",
    "                    digit = (token - offset - self.data_len * 2) % self.mod\n",
    "                    if char_pos == 0 or len(decoded_sequence) == 0 or not decoded_sequence[-1][-1].isdigit():\n",
    "                        decoded_sequence.append(str(digit))\n",
    "                    else:\n",
    "                        decoded_sequence[-1] += str(digit)\n",
    "\n",
    "        return \" \".join(decoded_sequence)\n",
    "\n",
    "\n",
    "    def set_add_attn_output(self, layer, add_output):\n",
    "        self.model.base_model.model.layers[layer].attn_add_tensor(add_output)\n",
    "\n",
    "    def get_attn_activations(self, layer):\n",
    "        return self.model.base_model.model.layers[layer].get_attn_activations()\n",
    "\n",
    "    def reset_all_layers(self):\n",
    "        for layer in self.model.base_model.model.layers:\n",
    "            layer.reset_block_output()\n",
    "            \n",
    "    @staticmethod\n",
    "    def get_tokens(model, layer_idx, input_ids, decode_tensors, num_layers, rank=1, device=\"cuda\", skip_idx=None, skip_random=False):\n",
    "        with torch.no_grad():\n",
    "            outputs = model(input_ids.float().unsqueeze(0))\n",
    "            logits = outputs.logits\n",
    "        last_token_logits = logits[0, -1, :]\n",
    "        if layer_idx < num_layers:\n",
    "            layer = model.base_model.model.layers[layer_idx]\n",
    "            if layer.block_output_unembedded is not None:\n",
    "                last_token_logits = layer.block_output_unembedded[0, -1, :]\n",
    "\n",
    "        # Get top k values and indices, where k is max(rank + 10, 100) to allow for skipping and random selection\n",
    "        k = max(rank + 10, 100)\n",
    "        val, idx = torch.topk(last_token_logits, k)\n",
    "\n",
    "        # If skip_idx is provided, remove it from consideration\n",
    "        if skip_idx is not None:\n",
    "            mask = ~torch.isin(idx, torch.tensor(skip_idx, device=device))\n",
    "            idx = idx[mask]\n",
    "            val = val[mask]\n",
    "\n",
    "        if skip_random and skip_idx is not None:\n",
    "            # Randomly select from top 10 non-skipped tokens\n",
    "            random_idx = torch.randint(0, min(10, len(idx)), (1,))\n",
    "            selected_idx = random_idx.item()\n",
    "        else:\n",
    "            # Select the token at the specified rank (subtracting 1 because rank is 1-indexed)\n",
    "            selected_idx = min(rank - 1, len(idx) - 1)\n",
    "\n",
    "        token = decode_tensors(idx[selected_idx].unsqueeze(-1)).strip()\n",
    "        return token, idx[selected_idx].item()\n",
    "\n",
    "\n",
    "    def create_new_token_input(self, token_id):\n",
    "        new_input = torch.zeros(1, self.input_dim, dtype=torch.float16)\n",
    "        if token_id < len(self.word_index_map):\n",
    "            new_input[0, token_id] = 1\n",
    "        else:\n",
    "            # Handle digit sequences\n",
    "            offset = len(self.word_index_map)\n",
    "            if token_id < offset + self.data_len * 2:\n",
    "                # Tuple index encoding\n",
    "                idx = (token_id - offset) % self.data_len\n",
    "                tuple_pos = (token_id - offset) // self.data_len\n",
    "                new_input[0, offset + tuple_pos * self.data_len + idx] = 1\n",
    "            else:\n",
    "                # Single digit or digit in tuple\n",
    "                char_pos = (token_id - offset - self.data_len * 2) // self.mod\n",
    "                digit = (token_id - offset - self.data_len * 2) % self.mod\n",
    "                new_input[0, offset + self.data_len * 2 + char_pos * self.mod + digit] = 1\n",
    "        return new_input\n",
    "    \n",
    "\n",
    "    def print_logit_progression(self, inputs,\n",
    "                                max_new_tokens=len(test_set[0]['labels']),\n",
    "                                layer_number=None,\n",
    "                                rank=1,\n",
    "                                skip_idx=None,\n",
    "                                input_length=None,\n",
    "                                skip_random=False,\n",
    "                                is_print=True):\n",
    "\n",
    "        self.reset_all_layers()\n",
    "        num_layers = len(self.model.base_model.model.layers)\n",
    "        result_dict = {f\"h{i}_out\": [] for i in range(num_layers)}\n",
    "        result_dict[\"h_out\"] = []\n",
    "        input_ids = inputs['input_ids'].to(self.device)\n",
    "        if input_length:\n",
    "            input_ids = input_ids[:input_length]\n",
    "        generated_sequence = input_ids.clone()\n",
    "        for _ in range(max_new_tokens):\n",
    "            self.reset_all_layers()\n",
    "\n",
    "            if layer_number is not None:\n",
    "                if layer_number > num_layers:\n",
    "                    print(f\"Error: Layer number {layer_number} is out of range. Max layer is {num_layers}.\")\n",
    "                    return {}\n",
    "                token, token_id = self.get_tokens(self.model, layer_number, generated_sequence, self.decode_tensors, num_layers, rank, self.device, skip_idx, skip_random)\n",
    "                layer_name = f\"h{layer_number}_out\" if layer_number < num_layers else \"h_out\"\n",
    "                result_dict[layer_name].append(token)\n",
    "            else:\n",
    "                for i in range(num_layers + 1):\n",
    "                    token, token_id = self.get_tokens(self.model, i, generated_sequence, self.decode_tensors, num_layers, rank, self.device, skip_idx, skip_random)\n",
    "                    layer_name = f\"h{i}_out\" if i < num_layers else \"h_out\"\n",
    "                    result_dict[layer_name].append(token)\n",
    "\n",
    "            if token in [\"[EOS]\",\"True\",\"False\"]: break\n",
    "            try:\n",
    "                new_token_input = self.create_new_token_input(token_id).to(self.device)\n",
    "\n",
    "                generated_sequence = torch.cat([generated_sequence, new_token_input], dim=0)\n",
    "            except:\n",
    "                generated_sequence = torch.cat([generated_sequence], dim=0)\n",
    "                break\n",
    "        # Print results\n",
    "        if is_print:\n",
    "            if layer_number is not None:\n",
    "                layer_name = f\"h{layer_number}_out\" if layer_number < num_layers else \"h_out\"\n",
    "                print(f\"{rank}th highest logit for {layer_name}:\")\n",
    "                print(\" \".join(result_dict[layer_name]))\n",
    "            else:\n",
    "                print(f\"{rank}th highest logit:\")\n",
    "                for layer_name, tokens in result_dict.items():\n",
    "                    print(f\"{layer_name:<5}: \" + \" \".join(tokens))\n",
    "        return result_dict\n",
    "\n",
    "    def get_layer_logits(self, inputs, layer_idx):\n",
    "        self.reset_all_layers()\n",
    "        num_layers = len(self.model.base_model.model.layers)\n",
    "        \n",
    "        if layer_idx > num_layers:\n",
    "            raise ValueError(f\"Error: Layer number {layer_idx} is out of range. Max layer is {num_layers}.\")\n",
    "        \n",
    "        input_ids = inputs['input_ids'].to(self.device)\n",
    "        \n",
    "        with torch.no_grad():\n",
    "            outputs = self.model(input_ids.float().unsqueeze(0))\n",
    "            logits = outputs.logits\n",
    "        \n",
    "        if layer_idx < num_layers:\n",
    "            layer = self.model.base_model.model.layers[layer_idx]\n",
    "            if layer.block_output_unembedded is not None:\n",
    "                logits = layer.block_output_unembedded\n",
    "        \n",
    "        return logits\n"
   ]
  },
  {
   "cell_type": "code",
   "execution_count": 10,
   "metadata": {},
   "outputs": [],
   "source": [
    "model = LlamaHelper(CONFIG_FILE, MODEL_PATH, test_set)"
   ]
  },
  {
   "cell_type": "code",
   "execution_count": 15,
   "metadata": {
    "scrolled": true
   },
   "outputs": [
    {
     "name": "stderr",
     "output_type": "stream",
     "text": [
      "100%|██████████| 400/400 [15:10<00:00,  2.28s/it]\n",
      "100%|██████████| 400/400 [14:37<00:00,  2.19s/it]\n"
     ]
    }
   ],
   "source": [
    "import concurrent.futures\n",
    "from tqdm import tqdm\n",
    "import pickle \n",
    "\n",
    "def run_print_logit_progression(model, test_set_item, rank, layer_number=None, skip_idx=None, skip_random=False):\n",
    "    return model.print_logit_progression(\n",
    "        test_set_item, \n",
    "        rank=rank, \n",
    "        layer_number=layer_number, \n",
    "        skip_idx=skip_idx, \n",
    "        input_length=test_set.data_len+1, \n",
    "        skip_random=skip_random,\n",
    "        is_print = False\n",
    "    )\n",
    "\n",
    "ranks = [1,2]\n",
    "\n",
    "results_list = []\n",
    "skip_idx = 3 # \".\"\n",
    "test_len = len(test_df)//5\n",
    "last_layer = 4\n",
    "\n",
    "for rank in ranks:\n",
    "    results_df = []\n",
    "    with concurrent.futures.ThreadPoolExecutor(max_workers=3) as executor:\n",
    "        for idx in tqdm(range(test_len)):\n",
    "            futures = [\n",
    "                executor.submit(run_print_logit_progression, model, test_set[idx], rank, None, None, False),\n",
    "                executor.submit(run_print_logit_progression, model, test_set[idx], rank, last_layer, skip_idx),\n",
    "                executor.submit(run_print_logit_progression, model, test_set[idx], rank, last_layer, skip_idx, True)\n",
    "            ]\n",
    "            \n",
    "            result, result_skip, result_skip_random = [future.result() for future in concurrent.futures.as_completed(futures)]\n",
    "            \n",
    "            for k, v in result_skip.items(): result[k + f\"_skip_rank_{str(rank)}\"] = v\n",
    "            \n",
    "            for k, v in result_skip_random.items(): result[k + f\"_skip_rank_{str(rank)}_random\"] = v\n",
    "            \n",
    "            results_df.append(result)\n",
    "    \n",
    "    results_list.append(results_df)"
   ]
  },
  {
   "cell_type": "code",
   "execution_count": 23,
   "metadata": {},
   "outputs": [],
   "source": [
    "processed_list = []\n",
    "for item in results_list:\n",
    "    processed_list+=item"
   ]
  },
  {
   "cell_type": "code",
   "execution_count": 24,
   "metadata": {},
   "outputs": [],
   "source": [
    "processed_list = [{key: ''.join(value) for key, value in item.items()} for item in processed_list]"
   ]
  },
  {
   "cell_type": "code",
   "execution_count": 25,
   "metadata": {},
   "outputs": [
    {
     "data": {
      "text/plain": [
       "{'h0_out': '',\n",
       " 'h1_out': '',\n",
       " 'h2_out': '',\n",
       " 'h3_out': '',\n",
       " 'h_out': '0-080-280-050-030-570-620-040-070-060-280-390-450-170-190-710-890-140-350-220-540-600-220-260-950-420-330-380-330-860-910-410-680-480-440-410-630-550-540-580-610-690-640-710-970-850-95AFalse',\n",
       " 'h0_out_skip_rank_1': '',\n",
       " 'h1_out_skip_rank_1': '',\n",
       " 'h2_out_skip_rank_1': '',\n",
       " 'h3_out_skip_rank_1': '',\n",
       " 'h_out_skip_rank_1': '0-40-80-240-520-530-680-210-580-70-7900-690-330-7540-560-260-700-880-770-300-360-010-930-910-990-4570-10-50-50-60-90-80-70-50-80-00-40-930-350-2360-50-80-440-760-320-40-60-000-20-60-70-850-740-7250-9670-430-620-68[EOS]',\n",
       " 'h0_out_skip_rank_1_random': '.5.0-2[EOS]A.A[EOS]..[EOS][EOS].[EOS]2[EOS]1.[EOS][EOS]0-011[EOS]2A0[EOS][EOS]9True70-20-2AA[EOS][EOS][EOS]A..[EOS]AAA[EOS][EOS][EOS][EOS]3410-00-0599[EOS][EOS][EOS]A169[EOS][EOS][EOS][EOS]A4[EOS]66[EOS][EOS][EOS][EOS]A5[EOS][EOS][EOS][EOS][EOS][EOS][EOS][EOS][EOS][EOS][EOS][EOS][EOS][EOS][EOS]A22[EOS][EOS]A',\n",
       " 'h1_out_skip_rank_1_random': '[EOS]0-0.30-2..45.28..0-80-70-7[EOS].0-7.2444AAAAA822AAAA388AAA666A889115A58899A[EOS]AA0222AAAAAAA5AA1005888AAA5AA[EOS][EOS][EOS][EOS][EOS]AA09A[EOS]False',\n",
       " 'h2_out_skip_rank_1_random': '0-0..0-04.100-6.20-3..0-9.0-9.7A.....................AA.......8...........A.....AA...A..[EOS].A.....[EOS]....A[EOS][EOS][EOS][EOS][EOS]A...A[EOS]False',\n",
       " 'h3_out_skip_rank_1_random': '..0-7.................................................................................................AFalse',\n",
       " 'h_out_skip_rank_1_random': '....................................................................................................AFalse'}"
      ]
     },
     "execution_count": 25,
     "metadata": {},
     "output_type": "execute_result"
    }
   ],
   "source": [
    "processed_list[0]"
   ]
  },
  {
   "cell_type": "code",
   "execution_count": 28,
   "metadata": {},
   "outputs": [],
   "source": [
    "results_df = pd.DataFrame(processed_list)"
   ]
  },
  {
   "cell_type": "code",
   "execution_count": 29,
   "metadata": {},
   "outputs": [],
   "source": [
    "results_df.to_csv(\"results_df.csv\")"
   ]
  },
  {
   "cell_type": "code",
   "execution_count": null,
   "metadata": {},
   "outputs": [],
   "source": []
  }
 ],
 "metadata": {
  "interpreter": {
   "hash": "d82929f0b2a0bc732f0b4a7de66959930da3979fa54e053e3cc98d8b0f7a869f"
  },
  "kernelspec": {
   "display_name": "Python 3 (ipykernel)",
   "language": "python",
   "name": "python3"
  },
  "language_info": {
   "codemirror_mode": {
    "name": "ipython",
    "version": 3
   },
   "file_extension": ".py",
   "mimetype": "text/x-python",
   "name": "python",
   "nbconvert_exporter": "python",
   "pygments_lexer": "ipython3",
   "version": "3.11.5"
  }
 },
 "nbformat": 4,
 "nbformat_minor": 2
}
